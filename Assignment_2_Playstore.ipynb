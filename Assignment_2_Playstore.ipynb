{
  "nbformat": 4,
  "nbformat_minor": 0,
  "metadata": {
    "colab": {
      "name": "Assignment 2 Playstore.ipynb",
      "provenance": [],
      "authorship_tag": "ABX9TyPn3URcAo2rx2utoro0Csp/",
      "include_colab_link": true
    },
    "kernelspec": {
      "name": "python3",
      "display_name": "Python 3"
    },
    "accelerator": "GPU"
  },
  "cells": [
    {
      "cell_type": "markdown",
      "metadata": {
        "id": "view-in-github",
        "colab_type": "text"
      },
      "source": [
        "<a href=\"https://colab.research.google.com/github/Mishranitin96/Board-Infinity-Homework/blob/master/Assignment_2_Playstore.ipynb\" target=\"_parent\"><img src=\"https://colab.research.google.com/assets/colab-badge.svg\" alt=\"Open In Colab\"/></a>"
      ]
    },
    {
      "cell_type": "code",
      "metadata": {
        "id": "X-_6JuCCRFP0",
        "colab_type": "code",
        "colab": {}
      },
      "source": [
        "import numpy as np\n",
        "import pandas as pd"
      ],
      "execution_count": 5,
      "outputs": []
    },
    {
      "cell_type": "code",
      "metadata": {
        "id": "aTKAAgTiRJZX",
        "colab_type": "code",
        "colab": {}
      },
      "source": [
        "import matplotlib.pyplot as plt"
      ],
      "execution_count": 1,
      "outputs": []
    },
    {
      "cell_type": "code",
      "metadata": {
        "id": "olfUXJaNRT_j",
        "colab_type": "code",
        "colab": {}
      },
      "source": [
        "NM =pd.read_csv('/content/playstore-analysis_(2)_(1)[1].csv')"
      ],
      "execution_count": 45,
      "outputs": []
    },
    {
      "cell_type": "code",
      "metadata": {
        "id": "CXTc5WL-RoSD",
        "colab_type": "code",
        "colab": {
          "base_uri": "https://localhost:8080/",
          "height": 603
        },
        "outputId": "f254a699-b6b4-41a7-85d3-13ad39f593d2"
      },
      "source": [
        "NM"
      ],
      "execution_count": 46,
      "outputs": [
        {
          "output_type": "execute_result",
          "data": {
            "text/html": [
              "<div>\n",
              "<style scoped>\n",
              "    .dataframe tbody tr th:only-of-type {\n",
              "        vertical-align: middle;\n",
              "    }\n",
              "\n",
              "    .dataframe tbody tr th {\n",
              "        vertical-align: top;\n",
              "    }\n",
              "\n",
              "    .dataframe thead th {\n",
              "        text-align: right;\n",
              "    }\n",
              "</style>\n",
              "<table border=\"1\" class=\"dataframe\">\n",
              "  <thead>\n",
              "    <tr style=\"text-align: right;\">\n",
              "      <th></th>\n",
              "      <th>App</th>\n",
              "      <th>Category</th>\n",
              "      <th>Rating</th>\n",
              "      <th>Reviews</th>\n",
              "      <th>Size</th>\n",
              "      <th>Installs</th>\n",
              "      <th>Type</th>\n",
              "      <th>Price</th>\n",
              "      <th>Content Rating</th>\n",
              "      <th>Genres</th>\n",
              "      <th>Last Updated</th>\n",
              "      <th>Current Ver</th>\n",
              "      <th>Android Ver</th>\n",
              "    </tr>\n",
              "  </thead>\n",
              "  <tbody>\n",
              "    <tr>\n",
              "      <th>0</th>\n",
              "      <td>Photo Editor &amp; Candy Camera &amp; Grid &amp; ScrapBook</td>\n",
              "      <td>ART_AND_DESIGN</td>\n",
              "      <td>4.1</td>\n",
              "      <td>159</td>\n",
              "      <td>19000.000000</td>\n",
              "      <td>10,000+</td>\n",
              "      <td>Free</td>\n",
              "      <td>0</td>\n",
              "      <td>Everyone</td>\n",
              "      <td>Art &amp; Design</td>\n",
              "      <td>January 7, 2018</td>\n",
              "      <td>1.0.0</td>\n",
              "      <td>4.0.3 and up</td>\n",
              "    </tr>\n",
              "    <tr>\n",
              "      <th>1</th>\n",
              "      <td>Coloring book moana</td>\n",
              "      <td>ART_AND_DESIGN</td>\n",
              "      <td>3.9</td>\n",
              "      <td>967</td>\n",
              "      <td>14000.000000</td>\n",
              "      <td>500,000+</td>\n",
              "      <td>Free</td>\n",
              "      <td>0</td>\n",
              "      <td>Everyone</td>\n",
              "      <td>Art &amp; Design;Pretend Play</td>\n",
              "      <td>January 15, 2018</td>\n",
              "      <td>2.0.0</td>\n",
              "      <td>4.0.3 and up</td>\n",
              "    </tr>\n",
              "    <tr>\n",
              "      <th>2</th>\n",
              "      <td>U Launcher Lite – FREE Live Cool Themes, Hide ...</td>\n",
              "      <td>ART_AND_DESIGN</td>\n",
              "      <td>4.7</td>\n",
              "      <td>87510</td>\n",
              "      <td>8700.000000</td>\n",
              "      <td>5,000,000+</td>\n",
              "      <td>Free</td>\n",
              "      <td>0</td>\n",
              "      <td>Everyone</td>\n",
              "      <td>Art &amp; Design</td>\n",
              "      <td>August 1, 2018</td>\n",
              "      <td>1.2.4</td>\n",
              "      <td>4.0.3 and up</td>\n",
              "    </tr>\n",
              "    <tr>\n",
              "      <th>3</th>\n",
              "      <td>Sketch - Draw &amp; Paint</td>\n",
              "      <td>ART_AND_DESIGN</td>\n",
              "      <td>4.5</td>\n",
              "      <td>215644</td>\n",
              "      <td>25000.000000</td>\n",
              "      <td>50,000,000+</td>\n",
              "      <td>Free</td>\n",
              "      <td>0</td>\n",
              "      <td>Teen</td>\n",
              "      <td>Art &amp; Design</td>\n",
              "      <td>June 8, 2018</td>\n",
              "      <td>Varies with device</td>\n",
              "      <td>4.2 and up</td>\n",
              "    </tr>\n",
              "    <tr>\n",
              "      <th>4</th>\n",
              "      <td>Pixel Draw - Number Art Coloring Book</td>\n",
              "      <td>ART_AND_DESIGN</td>\n",
              "      <td>4.3</td>\n",
              "      <td>967</td>\n",
              "      <td>2800.000000</td>\n",
              "      <td>100,000+</td>\n",
              "      <td>Free</td>\n",
              "      <td>0</td>\n",
              "      <td>Everyone</td>\n",
              "      <td>Art &amp; Design;Creativity</td>\n",
              "      <td>June 20, 2018</td>\n",
              "      <td>1.1</td>\n",
              "      <td>4.4 and up</td>\n",
              "    </tr>\n",
              "    <tr>\n",
              "      <th>...</th>\n",
              "      <td>...</td>\n",
              "      <td>...</td>\n",
              "      <td>...</td>\n",
              "      <td>...</td>\n",
              "      <td>...</td>\n",
              "      <td>...</td>\n",
              "      <td>...</td>\n",
              "      <td>...</td>\n",
              "      <td>...</td>\n",
              "      <td>...</td>\n",
              "      <td>...</td>\n",
              "      <td>...</td>\n",
              "      <td>...</td>\n",
              "    </tr>\n",
              "    <tr>\n",
              "      <th>10836</th>\n",
              "      <td>Sya9a Maroc - FR</td>\n",
              "      <td>FAMILY</td>\n",
              "      <td>4.5</td>\n",
              "      <td>38</td>\n",
              "      <td>53000.000000</td>\n",
              "      <td>5,000+</td>\n",
              "      <td>Free</td>\n",
              "      <td>0</td>\n",
              "      <td>Everyone</td>\n",
              "      <td>Education</td>\n",
              "      <td>July 25, 2017</td>\n",
              "      <td>1.48</td>\n",
              "      <td>4.1 and up</td>\n",
              "    </tr>\n",
              "    <tr>\n",
              "      <th>10837</th>\n",
              "      <td>Fr. Mike Schmitz Audio Teachings</td>\n",
              "      <td>FAMILY</td>\n",
              "      <td>5.0</td>\n",
              "      <td>4</td>\n",
              "      <td>3600.000000</td>\n",
              "      <td>100+</td>\n",
              "      <td>Free</td>\n",
              "      <td>0</td>\n",
              "      <td>Everyone</td>\n",
              "      <td>Education</td>\n",
              "      <td>July 6, 2018</td>\n",
              "      <td>1.0</td>\n",
              "      <td>4.1 and up</td>\n",
              "    </tr>\n",
              "    <tr>\n",
              "      <th>10838</th>\n",
              "      <td>Parkinson Exercices FR</td>\n",
              "      <td>MEDICAL</td>\n",
              "      <td>NaN</td>\n",
              "      <td>3</td>\n",
              "      <td>9500.000000</td>\n",
              "      <td>1,000+</td>\n",
              "      <td>Free</td>\n",
              "      <td>0</td>\n",
              "      <td>Everyone</td>\n",
              "      <td>Medical</td>\n",
              "      <td>January 20, 2017</td>\n",
              "      <td>1.0</td>\n",
              "      <td>2.2 and up</td>\n",
              "    </tr>\n",
              "    <tr>\n",
              "      <th>10839</th>\n",
              "      <td>The SCP Foundation DB fr nn5n</td>\n",
              "      <td>BOOKS_AND_REFERENCE</td>\n",
              "      <td>4.5</td>\n",
              "      <td>114</td>\n",
              "      <td>21516.529524</td>\n",
              "      <td>1,000+</td>\n",
              "      <td>Free</td>\n",
              "      <td>0</td>\n",
              "      <td>Mature 17+</td>\n",
              "      <td>Books &amp; Reference</td>\n",
              "      <td>January 19, 2015</td>\n",
              "      <td>Varies with device</td>\n",
              "      <td>Varies with device</td>\n",
              "    </tr>\n",
              "    <tr>\n",
              "      <th>10840</th>\n",
              "      <td>iHoroscope - 2018 Daily Horoscope &amp; Astrology</td>\n",
              "      <td>LIFESTYLE</td>\n",
              "      <td>4.5</td>\n",
              "      <td>398307</td>\n",
              "      <td>19000.000000</td>\n",
              "      <td>10,000,000+</td>\n",
              "      <td>Free</td>\n",
              "      <td>0</td>\n",
              "      <td>Everyone</td>\n",
              "      <td>Lifestyle</td>\n",
              "      <td>July 25, 2018</td>\n",
              "      <td>Varies with device</td>\n",
              "      <td>Varies with device</td>\n",
              "    </tr>\n",
              "  </tbody>\n",
              "</table>\n",
              "<p>10841 rows × 13 columns</p>\n",
              "</div>"
            ],
            "text/plain": [
              "                                                     App  ...         Android Ver\n",
              "0         Photo Editor & Candy Camera & Grid & ScrapBook  ...        4.0.3 and up\n",
              "1                                    Coloring book moana  ...        4.0.3 and up\n",
              "2      U Launcher Lite – FREE Live Cool Themes, Hide ...  ...        4.0.3 and up\n",
              "3                                  Sketch - Draw & Paint  ...          4.2 and up\n",
              "4                  Pixel Draw - Number Art Coloring Book  ...          4.4 and up\n",
              "...                                                  ...  ...                 ...\n",
              "10836                                   Sya9a Maroc - FR  ...          4.1 and up\n",
              "10837                   Fr. Mike Schmitz Audio Teachings  ...          4.1 and up\n",
              "10838                             Parkinson Exercices FR  ...          2.2 and up\n",
              "10839                      The SCP Foundation DB fr nn5n  ...  Varies with device\n",
              "10840      iHoroscope - 2018 Daily Horoscope & Astrology  ...  Varies with device\n",
              "\n",
              "[10841 rows x 13 columns]"
            ]
          },
          "metadata": {
            "tags": []
          },
          "execution_count": 46
        }
      ]
    },
    {
      "cell_type": "markdown",
      "metadata": {
        "id": "WZvE_CVgR9Wk",
        "colab_type": "text"
      },
      "source": [
        "Tasks\n",
        "1. Data clean up – Missing value treatment\n",
        "\n",
        "a. Drop records where rating is missing since rating is our target/study variable"
      ]
    },
    {
      "cell_type": "code",
      "metadata": {
        "id": "GydbgbNmR00X",
        "colab_type": "code",
        "colab": {
          "base_uri": "https://localhost:8080/",
          "height": 252
        },
        "outputId": "812c997d-e77d-4f62-c1a7-87956e06ac38"
      },
      "source": [
        "NM = NM.dropna(subset =['Rating'] )\n",
        "NM.isnull().sum()"
      ],
      "execution_count": 30,
      "outputs": [
        {
          "output_type": "execute_result",
          "data": {
            "text/plain": [
              "App               0\n",
              "Category          0\n",
              "Rating            0\n",
              "Reviews           0\n",
              "Size              0\n",
              "Installs          0\n",
              "Type              0\n",
              "Price             0\n",
              "Content Rating    1\n",
              "Genres            0\n",
              "Last Updated      0\n",
              "Current Ver       4\n",
              "Android Ver       3\n",
              "dtype: int64"
            ]
          },
          "metadata": {
            "tags": []
          },
          "execution_count": 30
        }
      ]
    },
    {
      "cell_type": "markdown",
      "metadata": {
        "id": "yOI0EvgfSVH0",
        "colab_type": "text"
      },
      "source": [
        "b. Check the null values for the Android Ver column. \n",
        "\n",
        "i. Are all 3 records having the same problem?\n"
      ]
    },
    {
      "cell_type": "code",
      "metadata": {
        "id": "SwEVmmJOSIlK",
        "colab_type": "code",
        "colab": {
          "base_uri": "https://localhost:8080/",
          "height": 50
        },
        "outputId": "51267860-8fe2-4a81-8da7-1666a25495c8"
      },
      "source": [
        "print(\"Checking for Null values in Android ver \\n\")\n",
        "SH =pd.isnull(NM['Android Ver'])"
      ],
      "execution_count": 31,
      "outputs": [
        {
          "output_type": "stream",
          "text": [
            "Checking for Null values in Android ver \n",
            "\n"
          ],
          "name": "stdout"
        }
      ]
    },
    {
      "cell_type": "code",
      "metadata": {
        "id": "lyqD0g_DSjFK",
        "colab_type": "code",
        "colab": {
          "base_uri": "https://localhost:8080/",
          "height": 186
        },
        "outputId": "468b3f89-eabc-4ca3-ed5b-0f70cd5dc88f"
      },
      "source": [
        "NM[SH]"
      ],
      "execution_count": 32,
      "outputs": [
        {
          "output_type": "execute_result",
          "data": {
            "text/html": [
              "<div>\n",
              "<style scoped>\n",
              "    .dataframe tbody tr th:only-of-type {\n",
              "        vertical-align: middle;\n",
              "    }\n",
              "\n",
              "    .dataframe tbody tr th {\n",
              "        vertical-align: top;\n",
              "    }\n",
              "\n",
              "    .dataframe thead th {\n",
              "        text-align: right;\n",
              "    }\n",
              "</style>\n",
              "<table border=\"1\" class=\"dataframe\">\n",
              "  <thead>\n",
              "    <tr style=\"text-align: right;\">\n",
              "      <th></th>\n",
              "      <th>App</th>\n",
              "      <th>Category</th>\n",
              "      <th>Rating</th>\n",
              "      <th>Reviews</th>\n",
              "      <th>Size</th>\n",
              "      <th>Installs</th>\n",
              "      <th>Type</th>\n",
              "      <th>Price</th>\n",
              "      <th>Content Rating</th>\n",
              "      <th>Genres</th>\n",
              "      <th>Last Updated</th>\n",
              "      <th>Current Ver</th>\n",
              "      <th>Android Ver</th>\n",
              "    </tr>\n",
              "  </thead>\n",
              "  <tbody>\n",
              "    <tr>\n",
              "      <th>4453</th>\n",
              "      <td>[substratum] Vacuum: P</td>\n",
              "      <td>PERSONALIZATION</td>\n",
              "      <td>4.4</td>\n",
              "      <td>230</td>\n",
              "      <td>11000.000000</td>\n",
              "      <td>1,000+</td>\n",
              "      <td>Paid</td>\n",
              "      <td>$1.49</td>\n",
              "      <td>Everyone</td>\n",
              "      <td>Personalization</td>\n",
              "      <td>July 20, 2018</td>\n",
              "      <td>4.4</td>\n",
              "      <td>NaN</td>\n",
              "    </tr>\n",
              "    <tr>\n",
              "      <th>4490</th>\n",
              "      <td>Pi Dark [substratum]</td>\n",
              "      <td>PERSONALIZATION</td>\n",
              "      <td>4.5</td>\n",
              "      <td>189</td>\n",
              "      <td>2100.000000</td>\n",
              "      <td>10,000+</td>\n",
              "      <td>Free</td>\n",
              "      <td>0</td>\n",
              "      <td>Everyone</td>\n",
              "      <td>Personalization</td>\n",
              "      <td>March 27, 2018</td>\n",
              "      <td>1.1</td>\n",
              "      <td>NaN</td>\n",
              "    </tr>\n",
              "    <tr>\n",
              "      <th>10472</th>\n",
              "      <td>Life Made WI-Fi Touchscreen Photo Frame</td>\n",
              "      <td>1.9</td>\n",
              "      <td>19.0</td>\n",
              "      <td>3.0M</td>\n",
              "      <td>21516.529524</td>\n",
              "      <td>Free</td>\n",
              "      <td>0</td>\n",
              "      <td>Everyone</td>\n",
              "      <td>NaN</td>\n",
              "      <td>February 11, 2018</td>\n",
              "      <td>1.0.19</td>\n",
              "      <td>4.0 and up</td>\n",
              "      <td>NaN</td>\n",
              "    </tr>\n",
              "  </tbody>\n",
              "</table>\n",
              "</div>"
            ],
            "text/plain": [
              "                                           App  ... Android Ver\n",
              "4453                    [substratum] Vacuum: P  ...         NaN\n",
              "4490                      Pi Dark [substratum]  ...         NaN\n",
              "10472  Life Made WI-Fi Touchscreen Photo Frame  ...         NaN\n",
              "\n",
              "[3 rows x 13 columns]"
            ]
          },
          "metadata": {
            "tags": []
          },
          "execution_count": 32
        }
      ]
    },
    {
      "cell_type": "markdown",
      "metadata": {
        "id": "B4jME8Y8Sx8p",
        "colab_type": "text"
      },
      "source": [
        "ii. Drop the 3rd record i.e. record for “Life Made WIFI …”\n"
      ]
    },
    {
      "cell_type": "code",
      "metadata": {
        "id": "24N4nBt0TbCY",
        "colab_type": "code",
        "colab": {
          "base_uri": "https://localhost:8080/",
          "height": 34
        },
        "outputId": "c6b8c91d-8744-442e-d560-db3f6231d2a2"
      },
      "source": [
        "print(\"Droping the 3rd record\")\n",
        "NM.drop([8450],inplace=True)"
      ],
      "execution_count": 47,
      "outputs": [
        {
          "output_type": "stream",
          "text": [
            "Droping the 3rd record\n"
          ],
          "name": "stdout"
        }
      ]
    },
    {
      "cell_type": "code",
      "metadata": {
        "id": "E_XKyOD-Ugb9",
        "colab_type": "code",
        "colab": {
          "base_uri": "https://localhost:8080/",
          "height": 77
        },
        "outputId": "73355637-e7bb-4eef-aa00-8e590dad9a95"
      },
      "source": [
        "NM.mode()"
      ],
      "execution_count": 35,
      "outputs": [
        {
          "output_type": "execute_result",
          "data": {
            "text/html": [
              "<div>\n",
              "<style scoped>\n",
              "    .dataframe tbody tr th:only-of-type {\n",
              "        vertical-align: middle;\n",
              "    }\n",
              "\n",
              "    .dataframe tbody tr th {\n",
              "        vertical-align: top;\n",
              "    }\n",
              "\n",
              "    .dataframe thead th {\n",
              "        text-align: right;\n",
              "    }\n",
              "</style>\n",
              "<table border=\"1\" class=\"dataframe\">\n",
              "  <thead>\n",
              "    <tr style=\"text-align: right;\">\n",
              "      <th></th>\n",
              "      <th>App</th>\n",
              "      <th>Category</th>\n",
              "      <th>Rating</th>\n",
              "      <th>Reviews</th>\n",
              "      <th>Size</th>\n",
              "      <th>Installs</th>\n",
              "      <th>Type</th>\n",
              "      <th>Price</th>\n",
              "      <th>Content Rating</th>\n",
              "      <th>Genres</th>\n",
              "      <th>Last Updated</th>\n",
              "      <th>Current Ver</th>\n",
              "      <th>Android Ver</th>\n",
              "    </tr>\n",
              "  </thead>\n",
              "  <tbody>\n",
              "    <tr>\n",
              "      <th>0</th>\n",
              "      <td>ROBLOX</td>\n",
              "      <td>FAMILY</td>\n",
              "      <td>4.4</td>\n",
              "      <td>2</td>\n",
              "      <td>21516.529524</td>\n",
              "      <td>1,000,000+</td>\n",
              "      <td>Free</td>\n",
              "      <td>0</td>\n",
              "      <td>Everyone</td>\n",
              "      <td>Tools</td>\n",
              "      <td>August 3, 2018</td>\n",
              "      <td>Varies with device</td>\n",
              "      <td>4.1 and up</td>\n",
              "    </tr>\n",
              "  </tbody>\n",
              "</table>\n",
              "</div>"
            ],
            "text/plain": [
              "      App Category  Rating  ...    Last Updated         Current Ver Android Ver\n",
              "0  ROBLOX   FAMILY     4.4  ...  August 3, 2018  Varies with device  4.1 and up\n",
              "\n",
              "[1 rows x 13 columns]"
            ]
          },
          "metadata": {
            "tags": []
          },
          "execution_count": 35
        }
      ]
    },
    {
      "cell_type": "code",
      "metadata": {
        "id": "nyV6tYM5V7De",
        "colab_type": "code",
        "colab": {
          "base_uri": "https://localhost:8080/",
          "height": 34
        },
        "outputId": "eacde202-c481-4a3f-bcf9-20cfe6c05a8d"
      },
      "source": [
        "print(\"Checking for Null values in Android Ver is \",NM['Android Ver'].isnull().sum())"
      ],
      "execution_count": 36,
      "outputs": [
        {
          "output_type": "stream",
          "text": [
            "Checking for Null values in Android Ver is  2\n"
          ],
          "name": "stdout"
        }
      ]
    },
    {
      "cell_type": "markdown",
      "metadata": {
        "id": "_z_D0y6PWFJJ",
        "colab_type": "text"
      },
      "source": [
        "iii. Replace remaining missing values with the mode\n"
      ]
    },
    {
      "cell_type": "code",
      "metadata": {
        "id": "DBtjUC7zWBnT",
        "colab_type": "code",
        "colab": {
          "base_uri": "https://localhost:8080/",
          "height": 319
        },
        "outputId": "a2dd35af-7bee-4005-bd4a-05cb58c9edea"
      },
      "source": [
        "print(\"Replace remaining missing values with the mode in Android Version\")\n",
        "print('________________________________________________________________________')\n",
        "NM['Android Ver'].fillna(NM['Android Ver'].mode()[0],inplace=True)\n",
        "print(NM.isnull().sum())\n",
        "print('________________________________________________________________________')\n",
        "print(\"No null Values in Android Ver Coloumn\")"
      ],
      "execution_count": 48,
      "outputs": [
        {
          "output_type": "stream",
          "text": [
            "Replace remaining missing values with the mode in Android Version\n",
            "________________________________________________________________________\n",
            "App                  0\n",
            "Category             0\n",
            "Rating            1474\n",
            "Reviews              0\n",
            "Size                 0\n",
            "Installs             0\n",
            "Type                 1\n",
            "Price                0\n",
            "Content Rating       1\n",
            "Genres               0\n",
            "Last Updated         0\n",
            "Current Ver          8\n",
            "Android Ver          0\n",
            "dtype: int64\n",
            "________________________________________________________________________\n",
            "No null Values in Android Ver Coloumn\n"
          ],
          "name": "stdout"
        }
      ]
    },
    {
      "cell_type": "code",
      "metadata": {
        "id": "4M5HyH7yWkSe",
        "colab_type": "code",
        "colab": {
          "base_uri": "https://localhost:8080/",
          "height": 34
        },
        "outputId": "89c8aea0-f177-4be2-aa2b-ce7d9b964cae"
      },
      "source": [
        "print(\"Checking for null values in Current Ver\")\n",
        "ST=pd.isnull(NM['Current Ver'])"
      ],
      "execution_count": 38,
      "outputs": [
        {
          "output_type": "stream",
          "text": [
            "Checking for null values in Current Ver\n"
          ],
          "name": "stdout"
        }
      ]
    },
    {
      "cell_type": "code",
      "metadata": {
        "id": "nQOQBTsQWsvb",
        "colab_type": "code",
        "colab": {
          "base_uri": "https://localhost:8080/",
          "height": 218
        },
        "outputId": "5286bd55-a8e7-44ce-c36e-c7dbe89f9eb7"
      },
      "source": [
        "ST"
      ],
      "execution_count": 39,
      "outputs": [
        {
          "output_type": "execute_result",
          "data": {
            "text/plain": [
              "0        False\n",
              "1        False\n",
              "2        False\n",
              "3        False\n",
              "4        False\n",
              "         ...  \n",
              "10834    False\n",
              "10836    False\n",
              "10837    False\n",
              "10839    False\n",
              "10840    False\n",
              "Name: Current Ver, Length: 9365, dtype: bool"
            ]
          },
          "metadata": {
            "tags": []
          },
          "execution_count": 39
        }
      ]
    },
    {
      "cell_type": "markdown",
      "metadata": {
        "id": "dR1jnCVsWeij",
        "colab_type": "text"
      },
      "source": [
        "c. Current ver – replace with most common value\n"
      ]
    },
    {
      "cell_type": "code",
      "metadata": {
        "id": "L5yQzZslWSPP",
        "colab_type": "code",
        "colab": {
          "base_uri": "https://localhost:8080/",
          "height": 64
        },
        "outputId": "2dc0f3a2-87ab-4eca-ae64-d2c9d430cd8f"
      },
      "source": [
        "print(\"Checking for null values in Current Ver\")\n",
        "c=pd.isnull(NM['Current Ver'])\n",
        "NM[c]"
      ],
      "execution_count": 42,
      "outputs": [
        {
          "output_type": "stream",
          "text": [
            "Checking for null values in Current Ver\n"
          ],
          "name": "stdout"
        },
        {
          "output_type": "execute_result",
          "data": {
            "text/html": [
              "<div>\n",
              "<style scoped>\n",
              "    .dataframe tbody tr th:only-of-type {\n",
              "        vertical-align: middle;\n",
              "    }\n",
              "\n",
              "    .dataframe tbody tr th {\n",
              "        vertical-align: top;\n",
              "    }\n",
              "\n",
              "    .dataframe thead th {\n",
              "        text-align: right;\n",
              "    }\n",
              "</style>\n",
              "<table border=\"1\" class=\"dataframe\">\n",
              "  <thead>\n",
              "    <tr style=\"text-align: right;\">\n",
              "      <th></th>\n",
              "      <th>App</th>\n",
              "      <th>Category</th>\n",
              "      <th>Rating</th>\n",
              "      <th>Reviews</th>\n",
              "      <th>Size</th>\n",
              "      <th>Installs</th>\n",
              "      <th>Type</th>\n",
              "      <th>Price</th>\n",
              "      <th>Content Rating</th>\n",
              "      <th>Genres</th>\n",
              "      <th>Last Updated</th>\n",
              "      <th>Current Ver</th>\n",
              "      <th>Android Ver</th>\n",
              "    </tr>\n",
              "  </thead>\n",
              "  <tbody>\n",
              "  </tbody>\n",
              "</table>\n",
              "</div>"
            ],
            "text/plain": [
              "Empty DataFrame\n",
              "Columns: [App, Category, Rating, Reviews, Size, Installs, Type, Price, Content Rating, Genres, Last Updated, Current Ver, Android Ver]\n",
              "Index: []"
            ]
          },
          "metadata": {
            "tags": []
          },
          "execution_count": 42
        }
      ]
    },
    {
      "cell_type": "markdown",
      "metadata": {
        "id": "-UAQDTe3XONB",
        "colab_type": "text"
      },
      "source": [
        "2. Data clean up – correcting the data types\n",
        "\n",
        "a. Which all variables need to be brought to numeric types?\n"
      ]
    },
    {
      "cell_type": "code",
      "metadata": {
        "id": "2NaLjBJYW0Yp",
        "colab_type": "code",
        "colab": {
          "base_uri": "https://localhost:8080/",
          "height": 34
        },
        "outputId": "6dbd0845-fafc-4a39-fa73-498f5ddcd264"
      },
      "source": [
        "print(\" Review, Installs, Price columns can be in Numeric Type\")"
      ],
      "execution_count": 43,
      "outputs": [
        {
          "output_type": "stream",
          "text": [
            " Review, Installs, Price columns can be in Numeric Type\n"
          ],
          "name": "stdout"
        }
      ]
    },
    {
      "cell_type": "markdown",
      "metadata": {
        "id": "OO0yCuMsXfff",
        "colab_type": "text"
      },
      "source": [
        "b. Price variable – remove $ sign and convert to float\n",
        "\n",
        "c. Installs – remove ‘,’ and ‘+’ sign, convert to integer\n",
        "\n",
        "d. Convert all other identified columns to numeric\n"
      ]
    },
    {
      "cell_type": "code",
      "metadata": {
        "id": "BMK3E0GeXUg-",
        "colab_type": "code",
        "colab": {}
      },
      "source": [
        "NM['Price'] = NM['Price'].str.strip(\"$\")\n",
        "NM['Installs'] = NM['Installs'].str.replace('\\W',\"\")\n",
        "NM['Price']=pd.to_numeric(NM['Price'],errors='coerce')\n",
        "NM['Reviews']=pd.to_numeric(NM['Reviews'],errors='coerce')\n",
        "NM['Size']=pd.to_numeric(NM['Size'],errors='coerce')"
      ],
      "execution_count": 49,
      "outputs": []
    },
    {
      "cell_type": "code",
      "metadata": {
        "id": "nONkuPs4XuFS",
        "colab_type": "code",
        "colab": {
          "base_uri": "https://localhost:8080/",
          "height": 992
        },
        "outputId": "32a744a1-858f-4487-d7bb-9fa1f592e203"
      },
      "source": [
        "NM.sample(20)"
      ],
      "execution_count": 51,
      "outputs": [
        {
          "output_type": "execute_result",
          "data": {
            "text/html": [
              "<div>\n",
              "<style scoped>\n",
              "    .dataframe tbody tr th:only-of-type {\n",
              "        vertical-align: middle;\n",
              "    }\n",
              "\n",
              "    .dataframe tbody tr th {\n",
              "        vertical-align: top;\n",
              "    }\n",
              "\n",
              "    .dataframe thead th {\n",
              "        text-align: right;\n",
              "    }\n",
              "</style>\n",
              "<table border=\"1\" class=\"dataframe\">\n",
              "  <thead>\n",
              "    <tr style=\"text-align: right;\">\n",
              "      <th></th>\n",
              "      <th>App</th>\n",
              "      <th>Category</th>\n",
              "      <th>Rating</th>\n",
              "      <th>Reviews</th>\n",
              "      <th>Size</th>\n",
              "      <th>Installs</th>\n",
              "      <th>Type</th>\n",
              "      <th>Price</th>\n",
              "      <th>Content Rating</th>\n",
              "      <th>Genres</th>\n",
              "      <th>Last Updated</th>\n",
              "      <th>Current Ver</th>\n",
              "      <th>Android Ver</th>\n",
              "    </tr>\n",
              "  </thead>\n",
              "  <tbody>\n",
              "    <tr>\n",
              "      <th>8014</th>\n",
              "      <td>Morse Player</td>\n",
              "      <td>FAMILY</td>\n",
              "      <td>5.0</td>\n",
              "      <td>12.0</td>\n",
              "      <td>2400.000000</td>\n",
              "      <td>100</td>\n",
              "      <td>Paid</td>\n",
              "      <td>1.99</td>\n",
              "      <td>Everyone</td>\n",
              "      <td>Education</td>\n",
              "      <td>January 23, 2017</td>\n",
              "      <td>2.1.1</td>\n",
              "      <td>3.0 and up</td>\n",
              "    </tr>\n",
              "    <tr>\n",
              "      <th>3951</th>\n",
              "      <td>BIGO LIVE - Live Stream</td>\n",
              "      <td>SOCIAL</td>\n",
              "      <td>4.4</td>\n",
              "      <td>2349421.0</td>\n",
              "      <td>39000.000000</td>\n",
              "      <td>100000000</td>\n",
              "      <td>Free</td>\n",
              "      <td>0.00</td>\n",
              "      <td>Teen</td>\n",
              "      <td>Social</td>\n",
              "      <td>July 27, 2018</td>\n",
              "      <td>4.1.0</td>\n",
              "      <td>4.0 and up</td>\n",
              "    </tr>\n",
              "    <tr>\n",
              "      <th>7205</th>\n",
              "      <td>Ultra CE calculator</td>\n",
              "      <td>SPORTS</td>\n",
              "      <td>4.2</td>\n",
              "      <td>28.0</td>\n",
              "      <td>7300.000000</td>\n",
              "      <td>1000</td>\n",
              "      <td>Free</td>\n",
              "      <td>0.00</td>\n",
              "      <td>Everyone</td>\n",
              "      <td>Sports</td>\n",
              "      <td>June 17, 2018</td>\n",
              "      <td>1.52</td>\n",
              "      <td>4.0.3 and up</td>\n",
              "    </tr>\n",
              "    <tr>\n",
              "      <th>9880</th>\n",
              "      <td>EU Mobile Money Partenaire Commercial</td>\n",
              "      <td>FINANCE</td>\n",
              "      <td>4.3</td>\n",
              "      <td>70.0</td>\n",
              "      <td>3900.000000</td>\n",
              "      <td>10000</td>\n",
              "      <td>Free</td>\n",
              "      <td>0.00</td>\n",
              "      <td>Everyone</td>\n",
              "      <td>Finance</td>\n",
              "      <td>May 14, 2018</td>\n",
              "      <td>1.3</td>\n",
              "      <td>4.0.3 and up</td>\n",
              "    </tr>\n",
              "    <tr>\n",
              "      <th>3989</th>\n",
              "      <td>CppDroid - C/C++ IDE</td>\n",
              "      <td>FAMILY</td>\n",
              "      <td>4.1</td>\n",
              "      <td>29978.0</td>\n",
              "      <td>21516.529524</td>\n",
              "      <td>1000000</td>\n",
              "      <td>Free</td>\n",
              "      <td>0.00</td>\n",
              "      <td>Everyone</td>\n",
              "      <td>Education</td>\n",
              "      <td>August 17, 2017</td>\n",
              "      <td>Varies with device</td>\n",
              "      <td>Varies with device</td>\n",
              "    </tr>\n",
              "    <tr>\n",
              "      <th>10712</th>\n",
              "      <td>Lalafo Pulsuz Elanlar</td>\n",
              "      <td>SHOPPING</td>\n",
              "      <td>4.4</td>\n",
              "      <td>61392.0</td>\n",
              "      <td>21516.529524</td>\n",
              "      <td>1000000</td>\n",
              "      <td>Free</td>\n",
              "      <td>0.00</td>\n",
              "      <td>Everyone</td>\n",
              "      <td>Shopping</td>\n",
              "      <td>August 8, 2018</td>\n",
              "      <td>Varies with device</td>\n",
              "      <td>Varies with device</td>\n",
              "    </tr>\n",
              "    <tr>\n",
              "      <th>2383</th>\n",
              "      <td>Davis's Drug Guide</td>\n",
              "      <td>MEDICAL</td>\n",
              "      <td>3.9</td>\n",
              "      <td>272.0</td>\n",
              "      <td>6400.000000</td>\n",
              "      <td>50000</td>\n",
              "      <td>Free</td>\n",
              "      <td>0.00</td>\n",
              "      <td>Everyone</td>\n",
              "      <td>Medical</td>\n",
              "      <td>December 11, 2017</td>\n",
              "      <td>2.7.36</td>\n",
              "      <td>4.1 and up</td>\n",
              "    </tr>\n",
              "    <tr>\n",
              "      <th>7643</th>\n",
              "      <td>Them Bombs: co-op board game play with 2-4 fri...</td>\n",
              "      <td>GAME</td>\n",
              "      <td>4.7</td>\n",
              "      <td>8038.0</td>\n",
              "      <td>52000.000000</td>\n",
              "      <td>100000</td>\n",
              "      <td>Free</td>\n",
              "      <td>0.00</td>\n",
              "      <td>Teen</td>\n",
              "      <td>Board</td>\n",
              "      <td>July 12, 2018</td>\n",
              "      <td>1.4.1</td>\n",
              "      <td>4.1 and up</td>\n",
              "    </tr>\n",
              "    <tr>\n",
              "      <th>9454</th>\n",
              "      <td>Bad Piggies HD</td>\n",
              "      <td>FAMILY</td>\n",
              "      <td>4.4</td>\n",
              "      <td>764967.0</td>\n",
              "      <td>69000.000000</td>\n",
              "      <td>10000000</td>\n",
              "      <td>Free</td>\n",
              "      <td>0.00</td>\n",
              "      <td>Everyone</td>\n",
              "      <td>Puzzle</td>\n",
              "      <td>July 5, 2018</td>\n",
              "      <td>2.3.4</td>\n",
              "      <td>4.1 and up</td>\n",
              "    </tr>\n",
              "    <tr>\n",
              "      <th>8500</th>\n",
              "      <td>Transport DK</td>\n",
              "      <td>MAPS_AND_NAVIGATION</td>\n",
              "      <td>4.1</td>\n",
              "      <td>204.0</td>\n",
              "      <td>11000.000000</td>\n",
              "      <td>10000</td>\n",
              "      <td>Free</td>\n",
              "      <td>0.00</td>\n",
              "      <td>Everyone</td>\n",
              "      <td>Maps &amp; Navigation</td>\n",
              "      <td>May 29, 2017</td>\n",
              "      <td>2.28</td>\n",
              "      <td>4.0 and up</td>\n",
              "    </tr>\n",
              "    <tr>\n",
              "      <th>5477</th>\n",
              "      <td>AP Physics 1 Prep: Practice Tests and Flashcards</td>\n",
              "      <td>FAMILY</td>\n",
              "      <td>4.4</td>\n",
              "      <td>29.0</td>\n",
              "      <td>5300.000000</td>\n",
              "      <td>5000</td>\n",
              "      <td>Free</td>\n",
              "      <td>0.00</td>\n",
              "      <td>Everyone</td>\n",
              "      <td>Education</td>\n",
              "      <td>July 3, 2018</td>\n",
              "      <td>1.6.7.1</td>\n",
              "      <td>4.1 and up</td>\n",
              "    </tr>\n",
              "    <tr>\n",
              "      <th>171</th>\n",
              "      <td>All Maths Formulas</td>\n",
              "      <td>BOOKS_AND_REFERENCE</td>\n",
              "      <td>4.4</td>\n",
              "      <td>2709.0</td>\n",
              "      <td>6800.000000</td>\n",
              "      <td>1000000</td>\n",
              "      <td>Free</td>\n",
              "      <td>0.00</td>\n",
              "      <td>Everyone</td>\n",
              "      <td>Books &amp; Reference</td>\n",
              "      <td>July 11, 2018</td>\n",
              "      <td>1.9</td>\n",
              "      <td>4.4 and up</td>\n",
              "    </tr>\n",
              "    <tr>\n",
              "      <th>7388</th>\n",
              "      <td>CI View</td>\n",
              "      <td>BUSINESS</td>\n",
              "      <td>NaN</td>\n",
              "      <td>2.0</td>\n",
              "      <td>9900.000000</td>\n",
              "      <td>100</td>\n",
              "      <td>Free</td>\n",
              "      <td>0.00</td>\n",
              "      <td>Everyone</td>\n",
              "      <td>Business</td>\n",
              "      <td>April 19, 2017</td>\n",
              "      <td>2.9</td>\n",
              "      <td>4.1 and up</td>\n",
              "    </tr>\n",
              "    <tr>\n",
              "      <th>10332</th>\n",
              "      <td>FE Chemical Engineering Exam Prep</td>\n",
              "      <td>FAMILY</td>\n",
              "      <td>NaN</td>\n",
              "      <td>2.0</td>\n",
              "      <td>20000.000000</td>\n",
              "      <td>100</td>\n",
              "      <td>Free</td>\n",
              "      <td>0.00</td>\n",
              "      <td>Everyone</td>\n",
              "      <td>Education</td>\n",
              "      <td>July 27, 2018</td>\n",
              "      <td>5.33.3669</td>\n",
              "      <td>5.0 and up</td>\n",
              "    </tr>\n",
              "    <tr>\n",
              "      <th>10252</th>\n",
              "      <td>1. FC Köln App</td>\n",
              "      <td>SPORTS</td>\n",
              "      <td>4.6</td>\n",
              "      <td>2019.0</td>\n",
              "      <td>41000.000000</td>\n",
              "      <td>100000</td>\n",
              "      <td>Free</td>\n",
              "      <td>0.00</td>\n",
              "      <td>Everyone</td>\n",
              "      <td>Sports</td>\n",
              "      <td>July 20, 2018</td>\n",
              "      <td>1.13.0</td>\n",
              "      <td>4.4 and up</td>\n",
              "    </tr>\n",
              "    <tr>\n",
              "      <th>3075</th>\n",
              "      <td>SportsManias Fantasy Team News</td>\n",
              "      <td>SPORTS</td>\n",
              "      <td>3.5</td>\n",
              "      <td>4057.0</td>\n",
              "      <td>26000.000000</td>\n",
              "      <td>500000</td>\n",
              "      <td>Free</td>\n",
              "      <td>0.00</td>\n",
              "      <td>Everyone</td>\n",
              "      <td>Sports</td>\n",
              "      <td>May 10, 2018</td>\n",
              "      <td>3.2.12</td>\n",
              "      <td>4.0.3 and up</td>\n",
              "    </tr>\n",
              "    <tr>\n",
              "      <th>5503</th>\n",
              "      <td>AQ Aspergers Test</td>\n",
              "      <td>MEDICAL</td>\n",
              "      <td>3.9</td>\n",
              "      <td>265.0</td>\n",
              "      <td>714.000000</td>\n",
              "      <td>10000</td>\n",
              "      <td>Free</td>\n",
              "      <td>0.00</td>\n",
              "      <td>Everyone</td>\n",
              "      <td>Medical</td>\n",
              "      <td>October 14, 2015</td>\n",
              "      <td>1.4.0</td>\n",
              "      <td>2.3.3 and up</td>\n",
              "    </tr>\n",
              "    <tr>\n",
              "      <th>3458</th>\n",
              "      <td>Google PDF Viewer</td>\n",
              "      <td>PRODUCTIVITY</td>\n",
              "      <td>4.2</td>\n",
              "      <td>226456.0</td>\n",
              "      <td>21516.529524</td>\n",
              "      <td>10000000</td>\n",
              "      <td>Free</td>\n",
              "      <td>0.00</td>\n",
              "      <td>Everyone</td>\n",
              "      <td>Productivity</td>\n",
              "      <td>October 9, 2017</td>\n",
              "      <td>Varies with device</td>\n",
              "      <td>Varies with device</td>\n",
              "    </tr>\n",
              "    <tr>\n",
              "      <th>2215</th>\n",
              "      <td>Hello Kitty Lunchbox</td>\n",
              "      <td>FAMILY</td>\n",
              "      <td>4.2</td>\n",
              "      <td>51838.0</td>\n",
              "      <td>15000.000000</td>\n",
              "      <td>5000000</td>\n",
              "      <td>Free</td>\n",
              "      <td>0.00</td>\n",
              "      <td>Everyone</td>\n",
              "      <td>Casual;Creativity</td>\n",
              "      <td>November 21, 2017</td>\n",
              "      <td>1.6</td>\n",
              "      <td>4.1 and up</td>\n",
              "    </tr>\n",
              "    <tr>\n",
              "      <th>5142</th>\n",
              "      <td>Denis Brogniart - AH 2 !</td>\n",
              "      <td>FAMILY</td>\n",
              "      <td>NaN</td>\n",
              "      <td>4.0</td>\n",
              "      <td>14000.000000</td>\n",
              "      <td>100</td>\n",
              "      <td>Free</td>\n",
              "      <td>0.00</td>\n",
              "      <td>Everyone</td>\n",
              "      <td>Entertainment</td>\n",
              "      <td>October 28, 2017</td>\n",
              "      <td>1.0</td>\n",
              "      <td>2.1 and up</td>\n",
              "    </tr>\n",
              "  </tbody>\n",
              "</table>\n",
              "</div>"
            ],
            "text/plain": [
              "                                                     App  ...         Android Ver\n",
              "8014                                        Morse Player  ...          3.0 and up\n",
              "3951                             BIGO LIVE - Live Stream  ...          4.0 and up\n",
              "7205                                 Ultra CE calculator  ...        4.0.3 and up\n",
              "9880               EU Mobile Money Partenaire Commercial  ...        4.0.3 and up\n",
              "3989                                CppDroid - C/C++ IDE  ...  Varies with device\n",
              "10712                              Lalafo Pulsuz Elanlar  ...  Varies with device\n",
              "2383                                  Davis's Drug Guide  ...          4.1 and up\n",
              "7643   Them Bombs: co-op board game play with 2-4 fri...  ...          4.1 and up\n",
              "9454                                      Bad Piggies HD  ...          4.1 and up\n",
              "8500                                        Transport DK  ...          4.0 and up\n",
              "5477    AP Physics 1 Prep: Practice Tests and Flashcards  ...          4.1 and up\n",
              "171                                   All Maths Formulas  ...          4.4 and up\n",
              "7388                                             CI View  ...          4.1 and up\n",
              "10332                  FE Chemical Engineering Exam Prep  ...          5.0 and up\n",
              "10252                                     1. FC Köln App  ...          4.4 and up\n",
              "3075                      SportsManias Fantasy Team News  ...        4.0.3 and up\n",
              "5503                                   AQ Aspergers Test  ...        2.3.3 and up\n",
              "3458                                   Google PDF Viewer  ...  Varies with device\n",
              "2215                                Hello Kitty Lunchbox  ...          4.1 and up\n",
              "5142                            Denis Brogniart - AH 2 !  ...          2.1 and up\n",
              "\n",
              "[20 rows x 13 columns]"
            ]
          },
          "metadata": {
            "tags": []
          },
          "execution_count": 51
        }
      ]
    },
    {
      "cell_type": "markdown",
      "metadata": {
        "id": "AlhsyNzMZ3Up",
        "colab_type": "text"
      },
      "source": [
        "3. Sanity checks – check for the following and handle accordingly\n",
        "\n",
        "a. Avg. rating should be between 1 and 5, as only these values are allowed on the play store."
      ]
    },
    {
      "cell_type": "code",
      "metadata": {
        "id": "kL75-lKrY9QE",
        "colab_type": "code",
        "colab": {
          "base_uri": "https://localhost:8080/",
          "height": 235
        },
        "outputId": "50cc5013-b35c-47b1-bd43-90175e4e107f"
      },
      "source": [
        "NM=NM[NM['Rating'].between(1,5)]\n",
        "print(\"As there is value between (1,5)\\n\",NM[\"Rating\"])"
      ],
      "execution_count": 52,
      "outputs": [
        {
          "output_type": "stream",
          "text": [
            "As there is value between (1,5)\n",
            " 0        4.1\n",
            "1        3.9\n",
            "2        4.7\n",
            "3        4.5\n",
            "4        4.3\n",
            "        ... \n",
            "10834    4.0\n",
            "10836    4.5\n",
            "10837    5.0\n",
            "10839    4.5\n",
            "10840    4.5\n",
            "Name: Rating, Length: 9365, dtype: float64\n"
          ],
          "name": "stdout"
        }
      ]
    },
    {
      "cell_type": "markdown",
      "metadata": {
        "id": "laen_tMLaP4k",
        "colab_type": "text"
      },
      "source": [
        "b. Reviews should not be more than installs as only those who installed can review the app.\n",
        "\n",
        "i. Are there any such records? Drop if so."
      ]
    },
    {
      "cell_type": "code",
      "metadata": {
        "id": "hlvkhMsTaEQ9",
        "colab_type": "code",
        "colab": {
          "base_uri": "https://localhost:8080/",
          "height": 252
        },
        "outputId": "2365f6e4-c9d2-4d3e-85ae-55655f2c5f31"
      },
      "source": [
        "NM['Installs']=NM['Installs'].apply(pd.to_numeric,downcast='integer')\n",
        "NM=NM[NM['Reviews'] < NM['Installs']]\n",
        "\n",
        "fg =pd.DataFrame(NM[['App','Reviews','Installs']])\n",
        "print(fg)"
      ],
      "execution_count": 54,
      "outputs": [
        {
          "output_type": "stream",
          "text": [
            "                                                     App   Reviews  Installs\n",
            "0         Photo Editor & Candy Camera & Grid & ScrapBook     159.0     10000\n",
            "1                                    Coloring book moana     967.0    500000\n",
            "2      U Launcher Lite – FREE Live Cool Themes, Hide ...   87510.0   5000000\n",
            "3                                  Sketch - Draw & Paint  215644.0  50000000\n",
            "4                  Pixel Draw - Number Art Coloring Book     967.0    100000\n",
            "...                                                  ...       ...       ...\n",
            "10834                                      FR Calculator       7.0       500\n",
            "10836                                   Sya9a Maroc - FR      38.0      5000\n",
            "10837                   Fr. Mike Schmitz Audio Teachings       4.0       100\n",
            "10839                      The SCP Foundation DB fr nn5n     114.0      1000\n",
            "10840      iHoroscope - 2018 Daily Horoscope & Astrology  398307.0  10000000\n",
            "\n",
            "[9356 rows x 3 columns]\n"
          ],
          "name": "stdout"
        }
      ]
    },
    {
      "cell_type": "markdown",
      "metadata": {
        "id": "516ujjIFat5_",
        "colab_type": "text"
      },
      "source": [
        "4. Identify and handle outliers –\n",
        "\n",
        "a. Price column\n",
        "\n",
        "i. Make suitable plot to identify outliers in price"
      ]
    },
    {
      "cell_type": "code",
      "metadata": {
        "id": "6B55gJonajZH",
        "colab_type": "code",
        "colab": {
          "base_uri": "https://localhost:8080/",
          "height": 298
        },
        "outputId": "aa42fcc3-e0d0-4360-e657-5eb16bbc972a"
      },
      "source": [
        "print(\"Ploting Boxplot graph for Price column\")\n",
        "\n",
        "plt.boxplot(NM['Price'])\n",
        "plt.show"
      ],
      "execution_count": 55,
      "outputs": [
        {
          "output_type": "stream",
          "text": [
            "Ploting Boxplot graph for Price column\n"
          ],
          "name": "stdout"
        },
        {
          "output_type": "execute_result",
          "data": {
            "text/plain": [
              "<function matplotlib.pyplot.show>"
            ]
          },
          "metadata": {
            "tags": []
          },
          "execution_count": 55
        },
        {
          "output_type": "display_data",
          "data": {
            "image/png": "[encoded data removed]",
            "text/plain": [
              "<Figure size 432x288 with 1 Axes>"
            ]
          },
          "metadata": {
            "tags": [],
            "needs_background": "light"
          }
        }
      ]
    },
    {
      "cell_type": "markdown",
      "metadata": {
        "id": "bgTAkQbMa8h0",
        "colab_type": "text"
      },
      "source": [
        "ii. Do you expect apps on the play store to cost $200? Check out these cases"
      ]
    },
    {
      "cell_type": "code",
      "metadata": {
        "id": "xrKhYwdwa0ju",
        "colab_type": "code",
        "colab": {
          "base_uri": "https://localhost:8080/",
          "height": 34
        },
        "outputId": "893dd84d-d107-4c36-8fe8-ce5cac6754a8"
      },
      "source": [
        "NM=NM[NM['Price']<200]\n",
        "print(\"MaxPrice is $\", NM['Price'].max())"
      ],
      "execution_count": 56,
      "outputs": [
        {
          "output_type": "stream",
          "text": [
            "MaxPrice is $ 79.99\n"
          ],
          "name": "stdout"
        }
      ]
    },
    {
      "cell_type": "markdown",
      "metadata": {
        "id": "mZBwanybbPv-",
        "colab_type": "text"
      },
      "source": [
        "iii. After dropping the useless records, make the suitable plot again to identify outliers"
      ]
    },
    {
      "cell_type": "code",
      "metadata": {
        "id": "luLSsVCVbGFQ",
        "colab_type": "code",
        "colab": {
          "base_uri": "https://localhost:8080/",
          "height": 282
        },
        "outputId": "a8cbdf29-9446-4231-ad81-9d4954c6f0f9"
      },
      "source": [
        "NM.boxplot(column=\"Price\")"
      ],
      "execution_count": 57,
      "outputs": [
        {
          "output_type": "execute_result",
          "data": {
            "text/plain": [
              "<matplotlib.axes._subplots.AxesSubplot at 0x7f8297bd5be0>"
            ]
          },
          "metadata": {
            "tags": []
          },
          "execution_count": 57
        },
        {
          "output_type": "display_data",
          "data": {
            "image/png": "[encoded data removed]",
            "text/plain": [
              "<Figure size 432x288 with 1 Axes>"
            ]
          },
          "metadata": {
            "tags": [],
            "needs_background": "light"
          }
        }
      ]
    },
    {
      "cell_type": "markdown",
      "metadata": {
        "id": "UKE1UFKubeju",
        "colab_type": "text"
      },
      "source": [
        "iv. Limit data to records with price < $30\n"
      ]
    },
    {
      "cell_type": "code",
      "metadata": {
        "id": "P5QATCefbVtY",
        "colab_type": "code",
        "colab": {
          "base_uri": "https://localhost:8080/",
          "height": 265
        },
        "outputId": "eab8efc3-0e13-4cc8-9d93-bade53eef147"
      },
      "source": [
        "NM=NM[NM['Price']<30]\n",
        "plt.boxplot(NM['Price']);"
      ],
      "execution_count": 58,
      "outputs": [
        {
          "output_type": "display_data",
          "data": {
            "image/png": "[encoded data removed]",
            "text/plain": [
              "<Figure size 432x288 with 1 Axes>"
            ]
          },
          "metadata": {
            "tags": [],
            "needs_background": "light"
          }
        }
      ]
    },
    {
      "cell_type": "markdown",
      "metadata": {
        "id": "B2QzYU7rbqwq",
        "colab_type": "text"
      },
      "source": [
        "b. Reviews column\n",
        "\n",
        "i. Make suitable plot"
      ]
    },
    {
      "cell_type": "code",
      "metadata": {
        "id": "EJUyCHZHbnGV",
        "colab_type": "code",
        "colab": {
          "base_uri": "https://localhost:8080/",
          "height": 278
        },
        "outputId": "4eb6fc33-3015-4499-d5c1-ad3f79b24b2c"
      },
      "source": [
        "NM['Reviews'].plot(kind='hist');"
      ],
      "execution_count": 59,
      "outputs": [
        {
          "output_type": "display_data",
          "data": {
            "image/png": "[encoded data removed]",
            "text/plain": [
              "<Figure size 432x288 with 1 Axes>"
            ]
          },
          "metadata": {
            "tags": [],
            "needs_background": "light"
          }
        }
      ]
    },
    {
      "cell_type": "markdown",
      "metadata": {
        "id": "n60Jsv2Tb3JP",
        "colab_type": "text"
      },
      "source": [
        "ii. Limit data to apps with < 1 Million reviews\n"
      ]
    },
    {
      "cell_type": "code",
      "metadata": {
        "id": "ReEjdsUIbxkd",
        "colab_type": "code",
        "colab": {
          "base_uri": "https://localhost:8080/",
          "height": 278
        },
        "outputId": "bfa7d730-3603-4e18-ac11-60782007857e"
      },
      "source": [
        "NM=NM[NM['Reviews']<1000000]\n",
        "plt.hist(NM[\"Reviews\"]);"
      ],
      "execution_count": 60,
      "outputs": [
        {
          "output_type": "display_data",
          "data": {
            "image/png": "[encoded data removed]",
            "text/plain": [
              "<Figure size 432x288 with 1 Axes>"
            ]
          },
          "metadata": {
            "tags": [],
            "needs_background": "light"
          }
        }
      ]
    },
    {
      "cell_type": "markdown",
      "metadata": {
        "id": "l6R1ZxGtcIOI",
        "colab_type": "text"
      },
      "source": [
        "c. Installs\n",
        "\n",
        "i. What is the 95th percentile of the installs?"
      ]
    },
    {
      "cell_type": "code",
      "metadata": {
        "id": "M5gpYMkAcBJG",
        "colab_type": "code",
        "colab": {
          "base_uri": "https://localhost:8080/",
          "height": 34
        },
        "outputId": "1769c9f4-b057-485f-a8e8-e69792726353"
      },
      "source": [
        "pt=NM['Installs'].quantile(.95)\n",
        "print(\"95Percentile of Installs column is \",pt)"
      ],
      "execution_count": 61,
      "outputs": [
        {
          "output_type": "stream",
          "text": [
            "95Percentile of Installs column is  10000000.0\n"
          ],
          "name": "stdout"
        }
      ]
    },
    {
      "cell_type": "markdown",
      "metadata": {
        "id": "ccADfxJdcW9n",
        "colab_type": "text"
      },
      "source": [
        "ii. Drop records having a value more than the 95th percentile\n"
      ]
    },
    {
      "cell_type": "code",
      "metadata": {
        "id": "UeGMPpQAcR2-",
        "colab_type": "code",
        "colab": {}
      },
      "source": [
        "NM=NM[NM['Installs']<pt]"
      ],
      "execution_count": 62,
      "outputs": []
    },
    {
      "cell_type": "markdown",
      "metadata": {
        "id": "BL8h47A9csvF",
        "colab_type": "text"
      },
      "source": [
        "**Data analysis to answer business questions**\n"
      ]
    },
    {
      "cell_type": "markdown",
      "metadata": {
        "id": "bGmUC4pscwkk",
        "colab_type": "text"
      },
      "source": [
        "5. What is the distribution of ratings like? (use Seaborn) More skewed towards higher/lower values?\n",
        "\n",
        "a. How do you explain this?"
      ]
    },
    {
      "cell_type": "code",
      "metadata": {
        "id": "oTqftRf7cimZ",
        "colab_type": "code",
        "colab": {
          "base_uri": "https://localhost:8080/",
          "height": 279
        },
        "outputId": "a93c3f14-807f-4109-b166-e5122049431e"
      },
      "source": [
        "sns.distplot(NM[\"Rating\"]);"
      ],
      "execution_count": 63,
      "outputs": [
        {
          "output_type": "display_data",
          "data": {
            "image/png": "[encoded data removed]",
            "text/plain": [
              "<Figure size 432x288 with 1 Axes>"
            ]
          },
          "metadata": {
            "tags": [],
            "needs_background": "light"
          }
        }
      ]
    },
    {
      "cell_type": "code",
      "metadata": {
        "id": "15ZXhy-ec7eN",
        "colab_type": "code",
        "colab": {
          "base_uri": "https://localhost:8080/",
          "height": 34
        },
        "outputId": "7094e67c-d7bb-4d9a-d0ec-d0c4e37f5004"
      },
      "source": [
        "print(\"As we can see that Ratings are  more gathered between 3 & 5\")"
      ],
      "execution_count": 64,
      "outputs": [
        {
          "output_type": "stream",
          "text": [
            "As we can see that Ratings are  more gathered between 3 & 5\n"
          ],
          "name": "stdout"
        }
      ]
    },
    {
      "cell_type": "markdown",
      "metadata": {
        "id": "rQE1ZqXAdjld",
        "colab_type": "text"
      },
      "source": [
        "6. What are the top Content Rating values?\n",
        "\n",
        "a. Are there any values with very few records?"
      ]
    },
    {
      "cell_type": "code",
      "metadata": {
        "id": "Ot8CK7yXdXNX",
        "colab_type": "code",
        "colab": {
          "base_uri": "https://localhost:8080/",
          "height": 134
        },
        "outputId": "00dfea4c-ecd4-447c-b331-ed17af124bdc"
      },
      "source": [
        "NM['Content Rating'].value_counts()"
      ],
      "execution_count": 65,
      "outputs": [
        {
          "output_type": "execute_result",
          "data": {
            "text/plain": [
              "Everyone           5911\n",
              "Teen                746\n",
              "Mature 17+          346\n",
              "Everyone 10+        249\n",
              "Adults only 18+       3\n",
              "Unrated               1\n",
              "Name: Content Rating, dtype: int64"
            ]
          },
          "metadata": {
            "tags": []
          },
          "execution_count": 65
        }
      ]
    },
    {
      "cell_type": "markdown",
      "metadata": {
        "id": "UbQ6R2bAdw9C",
        "colab_type": "text"
      },
      "source": [
        "b. If yes, drop those as they won’t help in the analysis\n"
      ]
    },
    {
      "cell_type": "code",
      "metadata": {
        "id": "S8CZqrzSdr7H",
        "colab_type": "code",
        "colab": {
          "base_uri": "https://localhost:8080/",
          "height": 195
        },
        "outputId": "bb8c2e2e-f47d-456b-b593-5d8bc763afdb"
      },
      "source": [
        "NM = NM[NM['Content Rating'] != 'Unrated']\n",
        "NM = NM[NM['Content Rating'] != 'Adults only 18+']\n",
        "NM.groupby('Content Rating').count()"
      ],
      "execution_count": 66,
      "outputs": [
        {
          "output_type": "execute_result",
          "data": {
            "text/html": [
              "<div>\n",
              "<style scoped>\n",
              "    .dataframe tbody tr th:only-of-type {\n",
              "        vertical-align: middle;\n",
              "    }\n",
              "\n",
              "    .dataframe tbody tr th {\n",
              "        vertical-align: top;\n",
              "    }\n",
              "\n",
              "    .dataframe thead th {\n",
              "        text-align: right;\n",
              "    }\n",
              "</style>\n",
              "<table border=\"1\" class=\"dataframe\">\n",
              "  <thead>\n",
              "    <tr style=\"text-align: right;\">\n",
              "      <th></th>\n",
              "      <th>App</th>\n",
              "      <th>Category</th>\n",
              "      <th>Rating</th>\n",
              "      <th>Reviews</th>\n",
              "      <th>Size</th>\n",
              "      <th>Installs</th>\n",
              "      <th>Type</th>\n",
              "      <th>Price</th>\n",
              "      <th>Genres</th>\n",
              "      <th>Last Updated</th>\n",
              "      <th>Current Ver</th>\n",
              "      <th>Android Ver</th>\n",
              "    </tr>\n",
              "    <tr>\n",
              "      <th>Content Rating</th>\n",
              "      <th></th>\n",
              "      <th></th>\n",
              "      <th></th>\n",
              "      <th></th>\n",
              "      <th></th>\n",
              "      <th></th>\n",
              "      <th></th>\n",
              "      <th></th>\n",
              "      <th></th>\n",
              "      <th></th>\n",
              "      <th></th>\n",
              "      <th></th>\n",
              "    </tr>\n",
              "  </thead>\n",
              "  <tbody>\n",
              "    <tr>\n",
              "      <th>Everyone</th>\n",
              "      <td>5911</td>\n",
              "      <td>5911</td>\n",
              "      <td>5911</td>\n",
              "      <td>5911</td>\n",
              "      <td>5911</td>\n",
              "      <td>5911</td>\n",
              "      <td>5911</td>\n",
              "      <td>5911</td>\n",
              "      <td>5911</td>\n",
              "      <td>5911</td>\n",
              "      <td>5907</td>\n",
              "      <td>5911</td>\n",
              "    </tr>\n",
              "    <tr>\n",
              "      <th>Everyone 10+</th>\n",
              "      <td>249</td>\n",
              "      <td>249</td>\n",
              "      <td>249</td>\n",
              "      <td>249</td>\n",
              "      <td>249</td>\n",
              "      <td>249</td>\n",
              "      <td>249</td>\n",
              "      <td>249</td>\n",
              "      <td>249</td>\n",
              "      <td>249</td>\n",
              "      <td>249</td>\n",
              "      <td>249</td>\n",
              "    </tr>\n",
              "    <tr>\n",
              "      <th>Mature 17+</th>\n",
              "      <td>346</td>\n",
              "      <td>346</td>\n",
              "      <td>346</td>\n",
              "      <td>346</td>\n",
              "      <td>346</td>\n",
              "      <td>346</td>\n",
              "      <td>346</td>\n",
              "      <td>346</td>\n",
              "      <td>346</td>\n",
              "      <td>346</td>\n",
              "      <td>346</td>\n",
              "      <td>346</td>\n",
              "    </tr>\n",
              "    <tr>\n",
              "      <th>Teen</th>\n",
              "      <td>746</td>\n",
              "      <td>746</td>\n",
              "      <td>746</td>\n",
              "      <td>746</td>\n",
              "      <td>746</td>\n",
              "      <td>746</td>\n",
              "      <td>746</td>\n",
              "      <td>746</td>\n",
              "      <td>746</td>\n",
              "      <td>746</td>\n",
              "      <td>746</td>\n",
              "      <td>746</td>\n",
              "    </tr>\n",
              "  </tbody>\n",
              "</table>\n",
              "</div>"
            ],
            "text/plain": [
              "                 App  Category  Rating  ...  Last Updated  Current Ver  Android Ver\n",
              "Content Rating                          ...                                        \n",
              "Everyone        5911      5911    5911  ...          5911         5907         5911\n",
              "Everyone 10+     249       249     249  ...           249          249          249\n",
              "Mature 17+       346       346     346  ...           346          346          346\n",
              "Teen             746       746     746  ...           746          746          746\n",
              "\n",
              "[4 rows x 12 columns]"
            ]
          },
          "metadata": {
            "tags": []
          },
          "execution_count": 66
        }
      ]
    },
    {
      "cell_type": "markdown",
      "metadata": {
        "id": "ibfKkC9JeBlW",
        "colab_type": "text"
      },
      "source": [
        "7. Effect of size on rating\n",
        "\n",
        "a. Make a joinplot to understand the effect of size on rating"
      ]
    },
    {
      "cell_type": "code",
      "metadata": {
        "id": "a86mwnnBd7gK",
        "colab_type": "code",
        "colab": {
          "base_uri": "https://localhost:8080/",
          "height": 674
        },
        "outputId": "ff0d3c26-13b8-49e8-f27f-3fa967be69fb"
      },
      "source": [
        "plt.figure(figsize=(15,8))\n",
        "sns.jointplot(\"Size\", \"Rating\", data=NM,height=9,kind='hex');"
      ],
      "execution_count": 67,
      "outputs": [
        {
          "output_type": "display_data",
          "data": {
            "text/plain": [
              "<Figure size 1080x576 with 0 Axes>"
            ]
          },
          "metadata": {
            "tags": []
          }
        },
        {
          "output_type": "display_data",
          "data": {
            "image/png": "[encoded data removed]",
            "text/plain": [
              "<Figure size 648x648 with 3 Axes>"
            ]
          },
          "metadata": {
            "tags": [],
            "needs_background": "light"
          }
        }
      ]
    },
    {
      "cell_type": "markdown",
      "metadata": {
        "id": "bKWRF0TueW-n",
        "colab_type": "text"
      },
      "source": [
        "**b. Do you see any patterns?**\n",
        "\n",
        "YES, we an see some types of scatter patterns in graph"
      ]
    },
    {
      "cell_type": "markdown",
      "metadata": {
        "id": "CTOnbkWEeoDw",
        "colab_type": "text"
      },
      "source": [
        "**c. How do you explain the pattern?**\n",
        "\n",
        "we can get conclusion from graph that Higest Rating for the moderate size of app is from 4 to 5.00 ratings"
      ]
    },
    {
      "cell_type": "markdown",
      "metadata": {
        "id": "hMjVTKwYfEfb",
        "colab_type": "text"
      },
      "source": [
        "8. Effect of price on rating\n",
        "\n",
        "  a. Make a jointplot (with regression line)"
      ]
    },
    {
      "cell_type": "code",
      "metadata": {
        "id": "P--GhGkoeQjB",
        "colab_type": "code",
        "colab": {
          "base_uri": "https://localhost:8080/",
          "height": 441
        },
        "outputId": "50c56ad1-7562-4c0a-814a-14f4ca801771"
      },
      "source": [
        "sns.jointplot(x=\"Price\", y=\"Rating\", data=NM, kind=\"reg\");"
      ],
      "execution_count": 68,
      "outputs": [
        {
          "output_type": "display_data",
          "data": {
            "image/png": "[encoded data removed]",
            "text/plain": [
              "<Figure size 432x432 with 3 Axes>"
            ]
          },
          "metadata": {
            "tags": [],
            "needs_background": "light"
          }
        }
      ]
    },
    {
      "cell_type": "markdown",
      "metadata": {
        "id": "RO44pH6yfWA8",
        "colab_type": "text"
      },
      "source": [
        "b. What pattern do you see?\n",
        "\n",
        "As we can see that play store has most apps in the rating of 3.5 to 5\n",
        "\n",
        "c. How do you explain the pattern?\n",
        "\n",
        "As i can say the pattern that are seen in above graph are imaginable as play store has its own functionality to verify the ratings standards"
      ]
    },
    {
      "cell_type": "markdown",
      "metadata": {
        "id": "4_4U_ZCSgb7k",
        "colab_type": "text"
      },
      "source": [
        "**d. Replot the data, this time with only records with price > 0 **"
      ]
    },
    {
      "cell_type": "code",
      "metadata": {
        "id": "moIccIj9fPSh",
        "colab_type": "code",
        "colab": {
          "base_uri": "https://localhost:8080/",
          "height": 586
        },
        "outputId": "777d7cc8-ce44-4339-dc09-84a5fad76c9b"
      },
      "source": [
        "RePrice=NM.loc[NM.Price>0]\n",
        "RePrice"
      ],
      "execution_count": 70,
      "outputs": [
        {
          "output_type": "execute_result",
          "data": {
            "text/html": [
              "<div>\n",
              "<style scoped>\n",
              "    .dataframe tbody tr th:only-of-type {\n",
              "        vertical-align: middle;\n",
              "    }\n",
              "\n",
              "    .dataframe tbody tr th {\n",
              "        vertical-align: top;\n",
              "    }\n",
              "\n",
              "    .dataframe thead th {\n",
              "        text-align: right;\n",
              "    }\n",
              "</style>\n",
              "<table border=\"1\" class=\"dataframe\">\n",
              "  <thead>\n",
              "    <tr style=\"text-align: right;\">\n",
              "      <th></th>\n",
              "      <th>App</th>\n",
              "      <th>Category</th>\n",
              "      <th>Rating</th>\n",
              "      <th>Reviews</th>\n",
              "      <th>Size</th>\n",
              "      <th>Installs</th>\n",
              "      <th>Type</th>\n",
              "      <th>Price</th>\n",
              "      <th>Content Rating</th>\n",
              "      <th>Genres</th>\n",
              "      <th>Last Updated</th>\n",
              "      <th>Current Ver</th>\n",
              "      <th>Android Ver</th>\n",
              "    </tr>\n",
              "  </thead>\n",
              "  <tbody>\n",
              "    <tr>\n",
              "      <th>234</th>\n",
              "      <td>TurboScan: scan documents and receipts in PDF</td>\n",
              "      <td>BUSINESS</td>\n",
              "      <td>4.7</td>\n",
              "      <td>11442.0</td>\n",
              "      <td>6800.000000</td>\n",
              "      <td>100000</td>\n",
              "      <td>Paid</td>\n",
              "      <td>4.99</td>\n",
              "      <td>Everyone</td>\n",
              "      <td>Business</td>\n",
              "      <td>March 25, 2018</td>\n",
              "      <td>1.5.2</td>\n",
              "      <td>4.0 and up</td>\n",
              "    </tr>\n",
              "    <tr>\n",
              "      <th>235</th>\n",
              "      <td>Tiny Scanner Pro: PDF Doc Scan</td>\n",
              "      <td>BUSINESS</td>\n",
              "      <td>4.8</td>\n",
              "      <td>10295.0</td>\n",
              "      <td>39000.000000</td>\n",
              "      <td>100000</td>\n",
              "      <td>Paid</td>\n",
              "      <td>4.99</td>\n",
              "      <td>Everyone</td>\n",
              "      <td>Business</td>\n",
              "      <td>April 11, 2017</td>\n",
              "      <td>3.4.6</td>\n",
              "      <td>3.0 and up</td>\n",
              "    </tr>\n",
              "    <tr>\n",
              "      <th>290</th>\n",
              "      <td>TurboScan: scan documents and receipts in PDF</td>\n",
              "      <td>BUSINESS</td>\n",
              "      <td>4.7</td>\n",
              "      <td>11442.0</td>\n",
              "      <td>6800.000000</td>\n",
              "      <td>100000</td>\n",
              "      <td>Paid</td>\n",
              "      <td>4.99</td>\n",
              "      <td>Everyone</td>\n",
              "      <td>Business</td>\n",
              "      <td>March 25, 2018</td>\n",
              "      <td>1.5.2</td>\n",
              "      <td>4.0 and up</td>\n",
              "    </tr>\n",
              "    <tr>\n",
              "      <th>291</th>\n",
              "      <td>Tiny Scanner Pro: PDF Doc Scan</td>\n",
              "      <td>BUSINESS</td>\n",
              "      <td>4.8</td>\n",
              "      <td>10295.0</td>\n",
              "      <td>39000.000000</td>\n",
              "      <td>100000</td>\n",
              "      <td>Paid</td>\n",
              "      <td>4.99</td>\n",
              "      <td>Everyone</td>\n",
              "      <td>Business</td>\n",
              "      <td>April 11, 2017</td>\n",
              "      <td>3.4.6</td>\n",
              "      <td>3.0 and up</td>\n",
              "    </tr>\n",
              "    <tr>\n",
              "      <th>427</th>\n",
              "      <td>Puffin Browser Pro</td>\n",
              "      <td>COMMUNICATION</td>\n",
              "      <td>4.0</td>\n",
              "      <td>18247.0</td>\n",
              "      <td>21516.529524</td>\n",
              "      <td>100000</td>\n",
              "      <td>Paid</td>\n",
              "      <td>3.99</td>\n",
              "      <td>Everyone</td>\n",
              "      <td>Communication</td>\n",
              "      <td>July 5, 2018</td>\n",
              "      <td>7.5.3.20547</td>\n",
              "      <td>4.1 and up</td>\n",
              "    </tr>\n",
              "    <tr>\n",
              "      <th>...</th>\n",
              "      <td>...</td>\n",
              "      <td>...</td>\n",
              "      <td>...</td>\n",
              "      <td>...</td>\n",
              "      <td>...</td>\n",
              "      <td>...</td>\n",
              "      <td>...</td>\n",
              "      <td>...</td>\n",
              "      <td>...</td>\n",
              "      <td>...</td>\n",
              "      <td>...</td>\n",
              "      <td>...</td>\n",
              "      <td>...</td>\n",
              "    </tr>\n",
              "    <tr>\n",
              "      <th>10682</th>\n",
              "      <td>Fruit Ninja Classic</td>\n",
              "      <td>GAME</td>\n",
              "      <td>4.3</td>\n",
              "      <td>85468.0</td>\n",
              "      <td>36000.000000</td>\n",
              "      <td>1000000</td>\n",
              "      <td>Paid</td>\n",
              "      <td>0.99</td>\n",
              "      <td>Everyone</td>\n",
              "      <td>Arcade</td>\n",
              "      <td>June 8, 2018</td>\n",
              "      <td>2.4.1.485300</td>\n",
              "      <td>4.0.3 and up</td>\n",
              "    </tr>\n",
              "    <tr>\n",
              "      <th>10690</th>\n",
              "      <td>FO Bixby</td>\n",
              "      <td>PERSONALIZATION</td>\n",
              "      <td>5.0</td>\n",
              "      <td>5.0</td>\n",
              "      <td>861.000000</td>\n",
              "      <td>100</td>\n",
              "      <td>Paid</td>\n",
              "      <td>0.99</td>\n",
              "      <td>Everyone</td>\n",
              "      <td>Personalization</td>\n",
              "      <td>April 25, 2018</td>\n",
              "      <td>0.2</td>\n",
              "      <td>7.0 and up</td>\n",
              "    </tr>\n",
              "    <tr>\n",
              "      <th>10760</th>\n",
              "      <td>Fast Tract Diet</td>\n",
              "      <td>HEALTH_AND_FITNESS</td>\n",
              "      <td>4.4</td>\n",
              "      <td>35.0</td>\n",
              "      <td>2400.000000</td>\n",
              "      <td>1000</td>\n",
              "      <td>Paid</td>\n",
              "      <td>7.99</td>\n",
              "      <td>Everyone</td>\n",
              "      <td>Health &amp; Fitness</td>\n",
              "      <td>August 8, 2018</td>\n",
              "      <td>1.9.3</td>\n",
              "      <td>4.2 and up</td>\n",
              "    </tr>\n",
              "    <tr>\n",
              "      <th>10782</th>\n",
              "      <td>Trine 2: Complete Story</td>\n",
              "      <td>GAME</td>\n",
              "      <td>3.8</td>\n",
              "      <td>252.0</td>\n",
              "      <td>11000.000000</td>\n",
              "      <td>10000</td>\n",
              "      <td>Paid</td>\n",
              "      <td>16.99</td>\n",
              "      <td>Teen</td>\n",
              "      <td>Action</td>\n",
              "      <td>February 27, 2015</td>\n",
              "      <td>2.22</td>\n",
              "      <td>5.0 and up</td>\n",
              "    </tr>\n",
              "    <tr>\n",
              "      <th>10785</th>\n",
              "      <td>sugar, sugar</td>\n",
              "      <td>FAMILY</td>\n",
              "      <td>4.2</td>\n",
              "      <td>1405.0</td>\n",
              "      <td>9500.000000</td>\n",
              "      <td>10000</td>\n",
              "      <td>Paid</td>\n",
              "      <td>1.20</td>\n",
              "      <td>Everyone</td>\n",
              "      <td>Puzzle</td>\n",
              "      <td>June 5, 2018</td>\n",
              "      <td>2.7</td>\n",
              "      <td>2.3 and up</td>\n",
              "    </tr>\n",
              "  </tbody>\n",
              "</table>\n",
              "<p>620 rows × 13 columns</p>\n",
              "</div>"
            ],
            "text/plain": [
              "                                                 App  ...   Android Ver\n",
              "234    TurboScan: scan documents and receipts in PDF  ...    4.0 and up\n",
              "235                   Tiny Scanner Pro: PDF Doc Scan  ...    3.0 and up\n",
              "290    TurboScan: scan documents and receipts in PDF  ...    4.0 and up\n",
              "291                   Tiny Scanner Pro: PDF Doc Scan  ...    3.0 and up\n",
              "427                               Puffin Browser Pro  ...    4.1 and up\n",
              "...                                              ...  ...           ...\n",
              "10682                            Fruit Ninja Classic  ...  4.0.3 and up\n",
              "10690                                       FO Bixby  ...    7.0 and up\n",
              "10760                                Fast Tract Diet  ...    4.2 and up\n",
              "10782                        Trine 2: Complete Story  ...    5.0 and up\n",
              "10785                                   sugar, sugar  ...    2.3 and up\n",
              "\n",
              "[620 rows x 13 columns]"
            ]
          },
          "metadata": {
            "tags": []
          },
          "execution_count": 70
        }
      ]
    },
    {
      "cell_type": "code",
      "metadata": {
        "id": "B_umsx2UglnC",
        "colab_type": "code",
        "colab": {
          "base_uri": "https://localhost:8080/",
          "height": 441
        },
        "outputId": "fd04ce69-55af-4ebb-9279-d21f7013bcb4"
      },
      "source": [
        "sns.jointplot(x=\"Price\", y=\"Rating\", data=RePrice, kind=\"reg\");"
      ],
      "execution_count": 71,
      "outputs": [
        {
          "output_type": "display_data",
          "data": {
            "image/png": "[encoded data removed]",
            "text/plain": [
              "<Figure size 432x432 with 3 Axes>"
            ]
          },
          "metadata": {
            "tags": [],
            "needs_background": "light"
          }
        }
      ]
    },
    {
      "cell_type": "markdown",
      "metadata": {
        "id": "sQhL-H8Ag9Rm",
        "colab_type": "text"
      },
      "source": [
        "9. Look at all the numeric interactions together – \n",
        "\n",
        "a. Make a pairplort with the colulmns - 'Reviews', 'Size', 'Rating', 'Price'\n"
      ]
    },
    {
      "cell_type": "code",
      "metadata": {
        "id": "VX9ReI4jgxGT",
        "colab_type": "code",
        "colab": {
          "base_uri": "https://localhost:8080/",
          "height": 747
        },
        "outputId": "5e61962e-90fc-49dd-9f0c-4d869c6a176c"
      },
      "source": [
        "sns.pairplot(NM, vars=[\"Reviews\",\"Size\",\"Rating\",\"Price\"]);"
      ],
      "execution_count": 72,
      "outputs": [
        {
          "output_type": "display_data",
          "data": {
            "image/png": "[encoded data removed]",
            "text/plain": [
              "<Figure size 720x720 with 20 Axes>"
            ]
          },
          "metadata": {
            "tags": [],
            "needs_background": "light"
          }
        }
      ]
    },
    {
      "cell_type": "markdown",
      "metadata": {
        "id": "1DklfUfLhRpO",
        "colab_type": "text"
      },
      "source": [
        "10. Rating vs. content rating\n",
        "\n",
        "a. Make a bar plot displaying the rating for each content rating"
      ]
    },
    {
      "cell_type": "code",
      "metadata": {
        "id": "pXLRFOZKhFJ0",
        "colab_type": "code",
        "colab": {
          "base_uri": "https://localhost:8080/",
          "height": 339
        },
        "outputId": "459a5b32-4079-402c-f922-091778209b4c"
      },
      "source": [
        "plt.subplots(figsize = (7,5))\n",
        "sns.set(style=\"darkgrid\")\n",
        "sns.barplot('Content Rating','Rating',data=NM);"
      ],
      "execution_count": 76,
      "outputs": [
        {
          "output_type": "display_data",
          "data": {
            "image/png": "[encoded data removed]",
            "text/plain": [
              "<Figure size 504x360 with 1 Axes>"
            ]
          },
          "metadata": {
            "tags": []
          }
        }
      ]
    },
    {
      "cell_type": "code",
      "metadata": {
        "id": "G7n8fPXghZQf",
        "colab_type": "code",
        "colab": {
          "base_uri": "https://localhost:8080/",
          "height": 284
        },
        "outputId": "9490a4b5-91f7-42a1-f96b-142196ad59b2"
      },
      "source": [
        "NM.describe()\n"
      ],
      "execution_count": 77,
      "outputs": [
        {
          "output_type": "execute_result",
          "data": {
            "text/html": [
              "<div>\n",
              "<style scoped>\n",
              "    .dataframe tbody tr th:only-of-type {\n",
              "        vertical-align: middle;\n",
              "    }\n",
              "\n",
              "    .dataframe tbody tr th {\n",
              "        vertical-align: top;\n",
              "    }\n",
              "\n",
              "    .dataframe thead th {\n",
              "        text-align: right;\n",
              "    }\n",
              "</style>\n",
              "<table border=\"1\" class=\"dataframe\">\n",
              "  <thead>\n",
              "    <tr style=\"text-align: right;\">\n",
              "      <th></th>\n",
              "      <th>Rating</th>\n",
              "      <th>Reviews</th>\n",
              "      <th>Size</th>\n",
              "      <th>Installs</th>\n",
              "      <th>Price</th>\n",
              "    </tr>\n",
              "  </thead>\n",
              "  <tbody>\n",
              "    <tr>\n",
              "      <th>count</th>\n",
              "      <td>7252.000000</td>\n",
              "      <td>7252.000000</td>\n",
              "      <td>7252.000000</td>\n",
              "      <td>7.252000e+03</td>\n",
              "      <td>7252.000000</td>\n",
              "    </tr>\n",
              "    <tr>\n",
              "      <th>mean</th>\n",
              "      <td>4.149697</td>\n",
              "      <td>19237.717457</td>\n",
              "      <td>20398.385435</td>\n",
              "      <td>7.935981e+05</td>\n",
              "      <td>0.386695</td>\n",
              "    </tr>\n",
              "    <tr>\n",
              "      <th>std</th>\n",
              "      <td>0.561870</td>\n",
              "      <td>47779.718017</td>\n",
              "      <td>20312.998783</td>\n",
              "      <td>1.483392e+06</td>\n",
              "      <td>1.882806</td>\n",
              "    </tr>\n",
              "    <tr>\n",
              "      <th>min</th>\n",
              "      <td>1.000000</td>\n",
              "      <td>1.000000</td>\n",
              "      <td>8.500000</td>\n",
              "      <td>5.000000e+00</td>\n",
              "      <td>0.000000</td>\n",
              "    </tr>\n",
              "    <tr>\n",
              "      <th>25%</th>\n",
              "      <td>3.900000</td>\n",
              "      <td>85.000000</td>\n",
              "      <td>5300.000000</td>\n",
              "      <td>1.000000e+04</td>\n",
              "      <td>0.000000</td>\n",
              "    </tr>\n",
              "    <tr>\n",
              "      <th>50%</th>\n",
              "      <td>4.300000</td>\n",
              "      <td>1383.000000</td>\n",
              "      <td>15000.000000</td>\n",
              "      <td>1.000000e+05</td>\n",
              "      <td>0.000000</td>\n",
              "    </tr>\n",
              "    <tr>\n",
              "      <th>75%</th>\n",
              "      <td>4.500000</td>\n",
              "      <td>16392.000000</td>\n",
              "      <td>26000.000000</td>\n",
              "      <td>1.000000e+06</td>\n",
              "      <td>0.000000</td>\n",
              "    </tr>\n",
              "    <tr>\n",
              "      <th>max</th>\n",
              "      <td>5.000000</td>\n",
              "      <td>896118.000000</td>\n",
              "      <td>100000.000000</td>\n",
              "      <td>5.000000e+06</td>\n",
              "      <td>29.990000</td>\n",
              "    </tr>\n",
              "  </tbody>\n",
              "</table>\n",
              "</div>"
            ],
            "text/plain": [
              "            Rating        Reviews           Size      Installs        Price\n",
              "count  7252.000000    7252.000000    7252.000000  7.252000e+03  7252.000000\n",
              "mean      4.149697   19237.717457   20398.385435  7.935981e+05     0.386695\n",
              "std       0.561870   47779.718017   20312.998783  1.483392e+06     1.882806\n",
              "min       1.000000       1.000000       8.500000  5.000000e+00     0.000000\n",
              "25%       3.900000      85.000000    5300.000000  1.000000e+04     0.000000\n",
              "50%       4.300000    1383.000000   15000.000000  1.000000e+05     0.000000\n",
              "75%       4.500000   16392.000000   26000.000000  1.000000e+06     0.000000\n",
              "max       5.000000  896118.000000  100000.000000  5.000000e+06    29.990000"
            ]
          },
          "metadata": {
            "tags": []
          },
          "execution_count": 77
        }
      ]
    },
    {
      "cell_type": "markdown",
      "metadata": {
        "id": "2bcWWQa2h9OK",
        "colab_type": "text"
      },
      "source": [
        "c. Choose the right metric and plot\n"
      ]
    },
    {
      "cell_type": "code",
      "metadata": {
        "id": "Fx3_yyY1hzzj",
        "colab_type": "code",
        "colab": {
          "base_uri": "https://localhost:8080/",
          "height": 394
        },
        "outputId": "5abae2c6-2b94-4f03-e9c1-36d5d58059e7"
      },
      "source": [
        "plt.figure(figsize=(10,6))\n",
        "S=NM.groupby('Content Rating')['Rating'].mean()\n",
        "S.plot(kind='hist')"
      ],
      "execution_count": 79,
      "outputs": [
        {
          "output_type": "execute_result",
          "data": {
            "text/plain": [
              "<matplotlib.axes._subplots.AxesSubplot at 0x7f829323ce80>"
            ]
          },
          "metadata": {
            "tags": []
          },
          "execution_count": 79
        },
        {
          "output_type": "display_data",
          "data": {
            "image/png": "[encoded data removed]",
            "text/plain": [
              "<Figure size 720x432 with 1 Axes>"
            ]
          },
          "metadata": {
            "tags": []
          }
        }
      ]
    },
    {
      "cell_type": "markdown",
      "metadata": {
        "id": "D9aOKhahiWw7",
        "colab_type": "text"
      },
      "source": [
        "11. Content rating vs. size vs. rating – 3 variables at a time\n",
        "\n",
        "a. Create 5 buckets (20% records in each) based on Size"
      ]
    },
    {
      "cell_type": "code",
      "metadata": {
        "id": "v9gTjAP7iLXm",
        "colab_type": "code",
        "colab": {
          "base_uri": "https://localhost:8080/",
          "height": 252
        },
        "outputId": "ca1367bc-bd44-444d-cd47-5df7576224a4"
      },
      "source": [
        "pd.qcut(NM['Size'],q=5)"
      ],
      "execution_count": 80,
      "outputs": [
        {
          "output_type": "execute_result",
          "data": {
            "text/plain": [
              "0         (9800.0, 21516.53]\n",
              "1         (9800.0, 21516.53]\n",
              "2           (4100.0, 9800.0]\n",
              "4            (8.499, 4100.0]\n",
              "5           (4100.0, 9800.0]\n",
              "                ...         \n",
              "10833        (8.499, 4100.0]\n",
              "10834        (8.499, 4100.0]\n",
              "10836    (31000.0, 100000.0]\n",
              "10837        (8.499, 4100.0]\n",
              "10839     (9800.0, 21516.53]\n",
              "Name: Size, Length: 7252, dtype: category\n",
              "Categories (5, interval[float64]): [(8.499, 4100.0] < (4100.0, 9800.0] < (9800.0, 21516.53] <\n",
              "                                    (21516.53, 31000.0] < (31000.0, 100000.0]]"
            ]
          },
          "metadata": {
            "tags": []
          },
          "execution_count": 80
        }
      ]
    },
    {
      "cell_type": "markdown",
      "metadata": {
        "id": "5U5CadvXiqO_",
        "colab_type": "text"
      },
      "source": [
        "b. By Content Rating vs. Size buckets, get the rating (20th percentile) for each\n",
        "combination"
      ]
    },
    {
      "cell_type": "code",
      "metadata": {
        "id": "AIrMqoBnij1W",
        "colab_type": "code",
        "colab": {
          "base_uri": "https://localhost:8080/",
          "height": 1000
        },
        "outputId": "fce8ec31-535d-4af5-d16d-dbcee4a1b672"
      },
      "source": [
        "np.array_split(NM, 5)"
      ],
      "execution_count": 81,
      "outputs": [
        {
          "output_type": "execute_result",
          "data": {
            "text/plain": [
              "[                                                    App  ...   Android Ver\n",
              " 0        Photo Editor & Candy Camera & Grid & ScrapBook  ...  4.0.3 and up\n",
              " 1                                   Coloring book moana  ...  4.0.3 and up\n",
              " 2     U Launcher Lite – FREE Live Cool Themes, Hide ...  ...  4.0.3 and up\n",
              " 4                 Pixel Draw - Number Art Coloring Book  ...    4.4 and up\n",
              " 5                            Paper flowers instructions  ...    2.3 and up\n",
              " ...                                                 ...  ...           ...\n",
              " 2220                       DisneyNOW – TV Shows & Games  ...    4.4 and up\n",
              " 2221                     Ever After High™ Charmed Style  ...  4.0.3 and up\n",
              " 2224                    Learn to Read with Tommy Turtle  ...    2.3 and up\n",
              " 2227                         Thomas & Friends: Race On!  ...    4.4 and up\n",
              " 2228                                           Mad Libs  ...    6.0 and up\n",
              " \n",
              " [1451 rows x 13 columns],\n",
              "                              App             Category  ...  Current Ver   Android Ver\n",
              " 2230                ABCmouse.com               FAMILY  ...        7.2.0    4.4 and up\n",
              " 2231  My Little Pony Celebration               FAMILY  ...        1.0.0    2.3 and up\n",
              " 2232           Sago Mini Friends               FAMILY  ...          1.3  4.0.3 and up\n",
              " 2233  Thomas & Friends: Delivery               FAMILY  ...          1.0    2.3 and up\n",
              " 2235                 Nasty Goats               FAMILY  ...        1.1.0    4.0 and up\n",
              " ...                          ...                  ...  ...          ...           ...\n",
              " 4637                    Kicker U            LIFESTYLE  ...         3.04  4.0.3 and up\n",
              " 4638                      U-Haul     TRAVEL_AND_LOCAL  ...        2.2.1    4.4 and up\n",
              " 4639               Vienna U-Bahn  MAPS_AND_NAVIGATION  ...       1.21.0    4.0 and up\n",
              " 4640               Kicker U Lite            LIFESTYLE  ...        2.0.0    2.1 and up\n",
              " 4641                      U-Scan                TOOLS  ...   1.2.6 (94)    2.2 and up\n",
              " \n",
              " [1451 rows x 13 columns],\n",
              "                                                App  ... Android Ver\n",
              " 4642                Octo U: Your driving companion  ...  4.3 and up\n",
              " 4643                 I Love U Theme&Emoji Keyboard  ...  4.1 and up\n",
              " 4644                                     Channel U  ...  4.1 and up\n",
              " 4645  Parallel U - App Cloner, Duals APP, tarallel  ...  4.1 and up\n",
              " 4646                     U Pull It Auto Dismantler  ...  1.6 and up\n",
              " ...                                            ...  ...         ...\n",
              " 6680                                   QR Code Pro  ...  4.1 and up\n",
              " 6681                               BR Video Player  ...  3.0 and up\n",
              " 6682       Br. Parking - Busy road Parking 3D 2018  ...  4.1 and up\n",
              " 6684                  B R Telco FCU Mobile Banking  ...  5.0 and up\n",
              " 6685                                   BR Chat Bot  ...  4.0 and up\n",
              " \n",
              " [1450 rows x 13 columns],\n",
              "                                                     App  ...         Android Ver\n",
              " 6686                                         Br Browser  ...          5.0 and up\n",
              " 6687                                   TV Guide BR Gold  ...  Varies with device\n",
              " 6688                         Dr B R Ambedkar (Jai Bhim)  ...          2.2 and up\n",
              " 6690                                           Br Shafi  ...          4.1 and up\n",
              " 6691                                   Dr. B.R.Ambedkar  ...          2.1 and up\n",
              " ...                                                 ...  ...                 ...\n",
              " 8753                                              IHOP®  ...          4.1 and up\n",
              " 8755                                             myGrow  ...          3.2 and up\n",
              " 8759  dr.fone - Recovery & Transfer wirelessly & Backup  ...          2.3 and up\n",
              " 8760         Dr. Truck Driver : Real Truck Simulator 3D  ...          4.1 and up\n",
              " 8761                       Dr. Cares - Pet Rescue 911 🐶  ...        4.0.3 and up\n",
              " \n",
              " [1450 rows x 13 columns],\n",
              "                                                    App  ...         Android Ver\n",
              " 8762                                    Dr. Panda Town  ...  Varies with device\n",
              " 8763                    Dr. Parker : Parking Simulator  ...          4.0 and up\n",
              " 8764          Dr. Parker : Real car parking simulation  ...          4.0 and up\n",
              " 8765   Dr. Battery - Fast Charger - Super Cleaner 2018  ...          4.0 and up\n",
              " 8767                                             DR TV  ...          4.4 and up\n",
              " ...                                                ...  ...                 ...\n",
              " 10833                                      Chemin (fr)  ...          2.2 and up\n",
              " 10834                                    FR Calculator  ...          4.1 and up\n",
              " 10836                                 Sya9a Maroc - FR  ...          4.1 and up\n",
              " 10837                 Fr. Mike Schmitz Audio Teachings  ...          4.1 and up\n",
              " 10839                    The SCP Foundation DB fr nn5n  ...  Varies with device\n",
              " \n",
              " [1450 rows x 13 columns]]"
            ]
          },
          "metadata": {
            "tags": []
          },
          "execution_count": 81
        }
      ]
    },
    {
      "cell_type": "markdown",
      "metadata": {
        "id": "TN-SdqiOi5qx",
        "colab_type": "text"
      },
      "source": [
        "c. Make a heatmap of this\n",
        "\n",
        "As i have not got training in heatmap so i wasn't able to do this "
      ]
    },
    {
      "cell_type": "code",
      "metadata": {
        "id": "wQ8Sdl6cjWMm",
        "colab_type": "code",
        "colab": {}
      },
      "source": [
        ""
      ],
      "execution_count": null,
      "outputs": []
    }
  ]
}