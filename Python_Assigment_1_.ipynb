{
  "nbformat": 4,
  "nbformat_minor": 0,
  "metadata": {
    "colab": {
      "name": "Python_Assigment_1 .ipynb",
      "provenance": [],
      "authorship_tag": "ABX9TyNe1rFjyi1ry7rT1+X6bBzK",
      "include_colab_link": true
    },
    "kernelspec": {
      "name": "python3",
      "display_name": "Python 3"
    }
  },
  "cells": [
    {
      "cell_type": "markdown",
      "metadata": {
        "id": "view-in-github",
        "colab_type": "text"
      },
      "source": [
        "<a href=\"https://colab.research.google.com/github/Mishranitin96/Board-Infinity-Homework/blob/master/Python_Assigment_1_.ipynb\" target=\"_parent\"><img src=\"https://colab.research.google.com/assets/colab-badge.svg\" alt=\"Open In Colab\"/></a>"
      ]
    },
    {
      "cell_type": "code",
      "metadata": {
        "id": "3KSAk-xFIo2_",
        "colab_type": "code",
        "colab": {}
      },
      "source": [
        "import pandas as pd\n",
        "import numpy as np\n",
        "import matplotlib.pyplot as plt"
      ],
      "execution_count": 37,
      "outputs": []
    },
    {
      "cell_type": "code",
      "metadata": {
        "id": "GF_WKCCPLTZ-",
        "colab_type": "code",
        "colab": {}
      },
      "source": [
        "NM = pd.read_excel(\"/content/Tips Quick EDA exercise v0.1 (5).xlsx\")"
      ],
      "execution_count": 12,
      "outputs": []
    },
    {
      "cell_type": "code",
      "metadata": {
        "id": "_IodnvDcMBiv",
        "colab_type": "code",
        "colab": {
          "base_uri": "https://localhost:8080/",
          "height": 402
        },
        "outputId": "e4f050ad-4eb1-4630-9f97-df7e9527789a"
      },
      "source": [
        "NM"
      ],
      "execution_count": 13,
      "outputs": [
        {
          "output_type": "execute_result",
          "data": {
            "text/html": [
              "<div>\n",
              "<style scoped>\n",
              "    .dataframe tbody tr th:only-of-type {\n",
              "        vertical-align: middle;\n",
              "    }\n",
              "\n",
              "    .dataframe tbody tr th {\n",
              "        vertical-align: top;\n",
              "    }\n",
              "\n",
              "    .dataframe thead th {\n",
              "        text-align: right;\n",
              "    }\n",
              "</style>\n",
              "<table border=\"1\" class=\"dataframe\">\n",
              "  <thead>\n",
              "    <tr style=\"text-align: right;\">\n",
              "      <th></th>\n",
              "      <th>total_bill</th>\n",
              "      <th>tip</th>\n",
              "      <th>sex</th>\n",
              "      <th>smoker</th>\n",
              "      <th>day</th>\n",
              "      <th>time</th>\n",
              "      <th>size</th>\n",
              "    </tr>\n",
              "  </thead>\n",
              "  <tbody>\n",
              "    <tr>\n",
              "      <th>0</th>\n",
              "      <td>16.99</td>\n",
              "      <td>1.01</td>\n",
              "      <td>Female</td>\n",
              "      <td>No</td>\n",
              "      <td>Sun</td>\n",
              "      <td>Dinner</td>\n",
              "      <td>2.0</td>\n",
              "    </tr>\n",
              "    <tr>\n",
              "      <th>1</th>\n",
              "      <td>10.34</td>\n",
              "      <td>1.66</td>\n",
              "      <td>Male</td>\n",
              "      <td>No</td>\n",
              "      <td>Sun</td>\n",
              "      <td>Dinner</td>\n",
              "      <td>3.0</td>\n",
              "    </tr>\n",
              "    <tr>\n",
              "      <th>2</th>\n",
              "      <td>21.01</td>\n",
              "      <td>3.50</td>\n",
              "      <td>Male</td>\n",
              "      <td>No</td>\n",
              "      <td>Sun</td>\n",
              "      <td>Dinner</td>\n",
              "      <td>3.0</td>\n",
              "    </tr>\n",
              "    <tr>\n",
              "      <th>3</th>\n",
              "      <td>23.68</td>\n",
              "      <td>3.31</td>\n",
              "      <td>Male</td>\n",
              "      <td>No</td>\n",
              "      <td>Sun</td>\n",
              "      <td>Dinner</td>\n",
              "      <td>2.0</td>\n",
              "    </tr>\n",
              "    <tr>\n",
              "      <th>4</th>\n",
              "      <td>24.59</td>\n",
              "      <td>3.61</td>\n",
              "      <td>Female</td>\n",
              "      <td>No</td>\n",
              "      <td>Sun</td>\n",
              "      <td>Dinner</td>\n",
              "      <td>4.0</td>\n",
              "    </tr>\n",
              "    <tr>\n",
              "      <th>...</th>\n",
              "      <td>...</td>\n",
              "      <td>...</td>\n",
              "      <td>...</td>\n",
              "      <td>...</td>\n",
              "      <td>...</td>\n",
              "      <td>...</td>\n",
              "      <td>...</td>\n",
              "    </tr>\n",
              "    <tr>\n",
              "      <th>240</th>\n",
              "      <td>27.18</td>\n",
              "      <td>2.00</td>\n",
              "      <td>Female</td>\n",
              "      <td>Yes</td>\n",
              "      <td>Sat</td>\n",
              "      <td>Dinner</td>\n",
              "      <td>2.0</td>\n",
              "    </tr>\n",
              "    <tr>\n",
              "      <th>241</th>\n",
              "      <td>22.67</td>\n",
              "      <td>2.00</td>\n",
              "      <td>Male</td>\n",
              "      <td>Yes</td>\n",
              "      <td>Sat</td>\n",
              "      <td>Dinner</td>\n",
              "      <td>2.0</td>\n",
              "    </tr>\n",
              "    <tr>\n",
              "      <th>242</th>\n",
              "      <td>17.82</td>\n",
              "      <td>1.75</td>\n",
              "      <td>Male</td>\n",
              "      <td>No</td>\n",
              "      <td>Sat</td>\n",
              "      <td>Dinner</td>\n",
              "      <td>2.0</td>\n",
              "    </tr>\n",
              "    <tr>\n",
              "      <th>243</th>\n",
              "      <td>18.78</td>\n",
              "      <td>3.00</td>\n",
              "      <td>Female</td>\n",
              "      <td>No</td>\n",
              "      <td>Thur</td>\n",
              "      <td>Dinner</td>\n",
              "      <td>2.0</td>\n",
              "    </tr>\n",
              "    <tr>\n",
              "      <th>244</th>\n",
              "      <td>NaN</td>\n",
              "      <td>NaN</td>\n",
              "      <td>0.356557</td>\n",
              "      <td>0.618852</td>\n",
              "      <td>NaN</td>\n",
              "      <td>NaN</td>\n",
              "      <td>NaN</td>\n",
              "    </tr>\n",
              "  </tbody>\n",
              "</table>\n",
              "<p>245 rows × 7 columns</p>\n",
              "</div>"
            ],
            "text/plain": [
              "     total_bill   tip       sex    smoker   day    time  size\n",
              "0         16.99  1.01    Female        No   Sun  Dinner   2.0\n",
              "1         10.34  1.66      Male        No   Sun  Dinner   3.0\n",
              "2         21.01  3.50      Male        No   Sun  Dinner   3.0\n",
              "3         23.68  3.31      Male        No   Sun  Dinner   2.0\n",
              "4         24.59  3.61    Female        No   Sun  Dinner   4.0\n",
              "..          ...   ...       ...       ...   ...     ...   ...\n",
              "240       27.18  2.00    Female       Yes   Sat  Dinner   2.0\n",
              "241       22.67  2.00      Male       Yes   Sat  Dinner   2.0\n",
              "242       17.82  1.75      Male        No   Sat  Dinner   2.0\n",
              "243       18.78  3.00    Female        No  Thur  Dinner   2.0\n",
              "244         NaN   NaN  0.356557  0.618852   NaN     NaN   NaN\n",
              "\n",
              "[245 rows x 7 columns]"
            ]
          },
          "metadata": {
            "tags": []
          },
          "execution_count": 13
        }
      ]
    },
    {
      "cell_type": "markdown",
      "metadata": {
        "id": "K9pb3YOINPMi",
        "colab_type": "text"
      },
      "source": [
        "What is the overall average tip?"
      ]
    },
    {
      "cell_type": "code",
      "metadata": {
        "id": "luaiX4aUNMt0",
        "colab_type": "code",
        "colab": {
          "base_uri": "https://localhost:8080/",
          "height": 34
        },
        "outputId": "614393a7-df60-4fc3-9ce4-f6b4a4548038"
      },
      "source": [
        "NM['tip'].mean()"
      ],
      "execution_count": 14,
      "outputs": [
        {
          "output_type": "execute_result",
          "data": {
            "text/plain": [
              "2.9982786885245902"
            ]
          },
          "metadata": {
            "tags": []
          },
          "execution_count": 14
        }
      ]
    },
    {
      "cell_type": "markdown",
      "metadata": {
        "id": "sUFUBezXN0Ku",
        "colab_type": "text"
      },
      "source": [
        "Get a numerical summary for 'tip' - are the median and mean very different? What does this tell you about the field?"
      ]
    },
    {
      "cell_type": "code",
      "metadata": {
        "id": "xj5BozOgNsTe",
        "colab_type": "code",
        "colab": {
          "base_uri": "https://localhost:8080/",
          "height": 50
        },
        "outputId": "4a993ccf-430a-4665-b03a-8094ab4764c1"
      },
      "source": [
        "print(NM['tip'].mean())  \n",
        "print(NM['tip'].median())"
      ],
      "execution_count": 23,
      "outputs": [
        {
          "output_type": "stream",
          "text": [
            "2.9982786885245902\n",
            "2.9\n"
          ],
          "name": "stdout"
        }
      ]
    },
    {
      "cell_type": "code",
      "metadata": {
        "id": "CAitH-roOOVR",
        "colab_type": "code",
        "colab": {
          "base_uri": "https://localhost:8080/",
          "height": 34
        },
        "outputId": "fae06ee3-08c2-4ea3-817f-381e64b94d4b"
      },
      "source": [
        "print('According to above results mean & Median are same')"
      ],
      "execution_count": 16,
      "outputs": [
        {
          "output_type": "stream",
          "text": [
            "According to above results mean & Median are same\n"
          ],
          "name": "stdout"
        }
      ]
    },
    {
      "cell_type": "markdown",
      "metadata": {
        "id": "Re0Tfh9FOlB7",
        "colab_type": "text"
      },
      "source": [
        "Prepare a boxplot for 'tip', are there any outliers?"
      ]
    },
    {
      "cell_type": "code",
      "metadata": {
        "id": "4Z7mWq1FOV2q",
        "colab_type": "code",
        "colab": {
          "base_uri": "https://localhost:8080/",
          "height": 432
        },
        "outputId": "87966d84-3bfb-4922-891d-869086a151e1"
      },
      "source": [
        "plt.boxplot(NM['tip'])\n",
        "plt.title('Box Plot for Tip')\n",
        "plt.ylabel('Price In $')\n",
        "plt.show()\n",
        "print('Yes there are outliers')"
      ],
      "execution_count": 38,
      "outputs": [
        {
          "output_type": "stream",
          "text": [
            "/usr/local/lib/python3.6/dist-packages/matplotlib/cbook/__init__.py:1239: RuntimeWarning: invalid value encountered in less_equal\n",
            "  wiskhi = x[x <= hival]\n",
            "/usr/local/lib/python3.6/dist-packages/matplotlib/cbook/__init__.py:1246: RuntimeWarning: invalid value encountered in greater_equal\n",
            "  wisklo = x[x >= loval]\n",
            "/usr/local/lib/python3.6/dist-packages/matplotlib/cbook/__init__.py:1254: RuntimeWarning: invalid value encountered in less\n",
            "  x[x < stats['whislo']],\n",
            "/usr/local/lib/python3.6/dist-packages/matplotlib/cbook/__init__.py:1255: RuntimeWarning: invalid value encountered in greater\n",
            "  x[x > stats['whishi']],\n"
          ],
          "name": "stderr"
        },
        {
          "output_type": "display_data",
          "data": {
            "image/png": "[encoded data removed]",
            "text/plain": [
              "<Figure size 432x288 with 1 Axes>"
            ]
          },
          "metadata": {
            "tags": [],
            "needs_background": "light"
          }
        },
        {
          "output_type": "stream",
          "text": [
            "Yes there are outliers\n"
          ],
          "name": "stdout"
        }
      ]
    },
    {
      "cell_type": "markdown",
      "metadata": {
        "id": "Lnpot-bYRgP_",
        "colab_type": "text"
      },
      "source": [
        "Prepare a boxplot for 'total_bill', are there any outliers?"
      ]
    },
    {
      "cell_type": "code",
      "metadata": {
        "id": "JEEFa7cqO2gt",
        "colab_type": "code",
        "colab": {
          "base_uri": "https://localhost:8080/",
          "height": 432
        },
        "outputId": "938e53ee-a4e2-42c1-90d9-a0b3fa6eed41"
      },
      "source": [
        "plt.boxplot(NM['total_bill'])\n",
        "plt.title('Box Plot for Total bill')\n",
        "plt.ylabel('Price In $')\n",
        "plt.show()\n",
        "print('Yes there are outliers')"
      ],
      "execution_count": 34,
      "outputs": [
        {
          "output_type": "stream",
          "text": [
            "/usr/local/lib/python3.6/dist-packages/matplotlib/cbook/__init__.py:1239: RuntimeWarning: invalid value encountered in less_equal\n",
            "  wiskhi = x[x <= hival]\n",
            "/usr/local/lib/python3.6/dist-packages/matplotlib/cbook/__init__.py:1246: RuntimeWarning: invalid value encountered in greater_equal\n",
            "  wisklo = x[x >= loval]\n",
            "/usr/local/lib/python3.6/dist-packages/matplotlib/cbook/__init__.py:1254: RuntimeWarning: invalid value encountered in less\n",
            "  x[x < stats['whislo']],\n",
            "/usr/local/lib/python3.6/dist-packages/matplotlib/cbook/__init__.py:1255: RuntimeWarning: invalid value encountered in greater\n",
            "  x[x > stats['whishi']],\n"
          ],
          "name": "stderr"
        },
        {
          "output_type": "display_data",
          "data": {
            "image/png": "[encoded data removed]",
            "text/plain": [
              "<Figure size 432x288 with 1 Axes>"
            ]
          },
          "metadata": {
            "tags": [],
            "needs_background": "light"
          }
        },
        {
          "output_type": "stream",
          "text": [
            "Yes there are outliers\n"
          ],
          "name": "stdout"
        }
      ]
    },
    {
      "cell_type": "markdown",
      "metadata": {
        "id": "KoiGTdBXTcVG",
        "colab_type": "text"
      },
      "source": [
        "Gender: what is the percent of females in the data? "
      ]
    },
    {
      "cell_type": "code",
      "metadata": {
        "id": "e8YnomPRRuZr",
        "colab_type": "code",
        "colab": {
          "base_uri": "https://localhost:8080/",
          "height": 101
        },
        "outputId": "f8efe2da-d4f9-441b-e576-3480b4c60086"
      },
      "source": [
        "print(NM['sex'].value_counts(normalize=True)*100)\n",
        "print(\"Female Percentage are 40% \")"
      ],
      "execution_count": 40,
      "outputs": [
        {
          "output_type": "stream",
          "text": [
            "Male                   64.081633\n",
            "Female                 35.510204\n",
            "0.35655737704918034     0.408163\n",
            "Name: sex, dtype: float64\n",
            "Female Percentage are 40% \n"
          ],
          "name": "stdout"
        }
      ]
    },
    {
      "cell_type": "markdown",
      "metadata": {
        "id": "GRB_x11IUCyG",
        "colab_type": "text"
      },
      "source": [
        "Prepare a bar plot with the bars representing the percentage of records for each gender."
      ]
    },
    {
      "cell_type": "code",
      "metadata": {
        "id": "CGbzCDBfT4lt",
        "colab_type": "code",
        "colab": {
          "base_uri": "https://localhost:8080/",
          "height": 456
        },
        "outputId": "3eb867c5-0927-41f8-ca89-805546066305"
      },
      "source": [
        "fm=NM['sex'].value_counts()\n",
        "print(fm)\n",
        "d['sex'].value_counts().plot(kind='bar')"
      ],
      "execution_count": 41,
      "outputs": [
        {
          "output_type": "stream",
          "text": [
            "Male                   157\n",
            "Female                  87\n",
            "0.35655737704918034      1\n",
            "Name: sex, dtype: int64\n"
          ],
          "name": "stdout"
        },
        {
          "output_type": "execute_result",
          "data": {
            "text/plain": [
              "<matplotlib.axes._subplots.AxesSubplot at 0x7fe309cf7668>"
            ]
          },
          "metadata": {
            "tags": []
          },
          "execution_count": 41
        },
        {
          "output_type": "display_data",
          "data": {
            "image/png": "[encoded data removed]",
            "text/plain": [
              "<Figure size 432x288 with 1 Axes>"
            ]
          },
          "metadata": {
            "tags": [],
            "needs_background": "light"
          }
        }
      ]
    },
    {
      "cell_type": "markdown",
      "metadata": {
        "id": "E-_GGfikUkr5",
        "colab_type": "text"
      },
      "source": [
        "Does the average tip differ by gender? Does one gender tip more than the other?"
      ]
    },
    {
      "cell_type": "code",
      "metadata": {
        "id": "qB42aTvnUYT4",
        "colab_type": "code",
        "colab": {
          "base_uri": "https://localhost:8080/",
          "height": 134
        },
        "outputId": "3a7daa86-1ea3-451d-8e7d-302ca71a5a8d"
      },
      "source": [
        "print('Average tip ',NM['tip'].mean())\n",
        "\n",
        "print(NM.groupby('sex')['tip'].mean())\n",
        "print('According to Above result Male tip More Hence Average tip Differ')"
      ],
      "execution_count": 42,
      "outputs": [
        {
          "output_type": "stream",
          "text": [
            "Average tip  2.9982786885245902\n",
            "sex\n",
            "0.35655737704918034         NaN\n",
            "Female                 2.833448\n",
            "Male                   3.089618\n",
            "Name: tip, dtype: float64\n",
            "According to Above result Male tip More Hence Average tip Differ\n"
          ],
          "name": "stdout"
        }
      ]
    },
    {
      "cell_type": "markdown",
      "metadata": {
        "id": "1ndpen9JVJQQ",
        "colab_type": "text"
      },
      "source": [
        "Does the average tip differ by the time of day?"
      ]
    },
    {
      "cell_type": "code",
      "metadata": {
        "id": "nPAMA_JhU5kA",
        "colab_type": "code",
        "colab": {
          "base_uri": "https://localhost:8080/",
          "height": 101
        },
        "outputId": "d800f64a-9cc2-4d67-ec86-6dc86f3c5eab"
      },
      "source": [
        "print(NM.groupby('time')['tip'].mean())\n",
        "print(\"Yes at Dinner time People pay More Compared to Lunch time \")"
      ],
      "execution_count": 43,
      "outputs": [
        {
          "output_type": "stream",
          "text": [
            "time\n",
            "Dinner    3.102670\n",
            "Lunch     2.728088\n",
            "Name: tip, dtype: float64\n",
            "Yes at Dinner time People pay More Compared to Lunch time \n"
          ],
          "name": "stdout"
        }
      ]
    },
    {
      "cell_type": "markdown",
      "metadata": {
        "id": "1dcajYOHV4VU",
        "colab_type": "text"
      },
      "source": [
        "Does the average tip differ by size (number of people at the table)? "
      ]
    },
    {
      "cell_type": "code",
      "metadata": {
        "id": "eiF1VzOuVtmO",
        "colab_type": "code",
        "colab": {
          "base_uri": "https://localhost:8080/",
          "height": 168
        },
        "outputId": "65a23d7e-34ae-4ccc-f1fe-831abb417c45"
      },
      "source": [
        "print(NM.groupby('size')['tip'].mean())\n",
        "print('According to Above result Hence Average tip Differ by Size in Some Case')"
      ],
      "execution_count": 45,
      "outputs": [
        {
          "output_type": "stream",
          "text": [
            "size\n",
            "1.0    1.437500\n",
            "2.0    2.582308\n",
            "3.0    3.393158\n",
            "4.0    4.135405\n",
            "5.0    4.028000\n",
            "6.0    5.225000\n",
            "Name: tip, dtype: float64\n",
            "According to Above result Hence Average tip Differ by Size in Some Case\n"
          ],
          "name": "stdout"
        }
      ]
    },
    {
      "cell_type": "markdown",
      "metadata": {
        "id": "28dTO3P2WHlj",
        "colab_type": "text"
      },
      "source": [
        "Do smokers tip more than non-smokers?"
      ]
    },
    {
      "cell_type": "code",
      "metadata": {
        "id": "pO4Anx57V_cx",
        "colab_type": "code",
        "colab": {
          "base_uri": "https://localhost:8080/",
          "height": 118
        },
        "outputId": "159270f4-ae8a-4e71-d829-463c3d58d9e4"
      },
      "source": [
        "print(NM.groupby('smoker')['tip'].mean())\n",
        "print(\"According to Above Result Smoker pays more tip compared to Non Smoker\")"
      ],
      "execution_count": 46,
      "outputs": [
        {
          "output_type": "stream",
          "text": [
            "smoker\n",
            "0.6188524590163934         NaN\n",
            "No                    2.991854\n",
            "Yes                   3.008710\n",
            "Name: tip, dtype: float64\n",
            "According to Above Result Smoker pays more tip compared to Non Smoker\n"
          ],
          "name": "stdout"
        }
      ]
    },
    {
      "cell_type": "markdown",
      "metadata": {
        "id": "R1QwagzGWX6s",
        "colab_type": "text"
      },
      "source": [
        "Gender vs. smoker/non-smoker and tip size - create a 2 by 2 and get the average tip size. Which group tips the most?"
      ]
    },
    {
      "cell_type": "code",
      "metadata": {
        "id": "BpBZHfWcWOEj",
        "colab_type": "code",
        "colab": {
          "base_uri": "https://localhost:8080/",
          "height": 528
        },
        "outputId": "c3360942-342f-4597-e7f1-ccbc98eed2e5"
      },
      "source": [
        "NM.groupby(['smoker','sex'])['tip'].sum().plot(kind='bar')"
      ],
      "execution_count": 47,
      "outputs": [
        {
          "output_type": "execute_result",
          "data": {
            "text/plain": [
              "<matplotlib.axes._subplots.AxesSubplot at 0x7fe309d104e0>"
            ]
          },
          "metadata": {
            "tags": []
          },
          "execution_count": 47
        },
        {
          "output_type": "display_data",
          "data": {
            "image/png": "[encoded data removed]",
            "text/plain": [
              "<Figure size 432x288 with 1 Axes>"
            ]
          },
          "metadata": {
            "tags": [],
            "needs_background": "light"
          }
        }
      ]
    },
    {
      "cell_type": "markdown",
      "metadata": {
        "id": "0UzB9b4rWncf",
        "colab_type": "text"
      },
      "source": [
        "Create a new metric called 'pct_tip' = tip/ total_bill - this would be percent tip give, and should be a better measure of the tipping behaviour."
      ]
    },
    {
      "cell_type": "code",
      "metadata": {
        "id": "pDfCPpDSWeAD",
        "colab_type": "code",
        "colab": {}
      },
      "source": [
        "NM['pct_tip']=NM['tip']/NM['total_bill']*100"
      ],
      "execution_count": 48,
      "outputs": []
    },
    {
      "cell_type": "code",
      "metadata": {
        "id": "aT6azIFiWxZW",
        "colab_type": "code",
        "colab": {
          "base_uri": "https://localhost:8080/",
          "height": 402
        },
        "outputId": "23acb703-21cb-4ad1-ed31-41b6c794830c"
      },
      "source": [
        "NM"
      ],
      "execution_count": 49,
      "outputs": [
        {
          "output_type": "execute_result",
          "data": {
            "text/html": [
              "<div>\n",
              "<style scoped>\n",
              "    .dataframe tbody tr th:only-of-type {\n",
              "        vertical-align: middle;\n",
              "    }\n",
              "\n",
              "    .dataframe tbody tr th {\n",
              "        vertical-align: top;\n",
              "    }\n",
              "\n",
              "    .dataframe thead th {\n",
              "        text-align: right;\n",
              "    }\n",
              "</style>\n",
              "<table border=\"1\" class=\"dataframe\">\n",
              "  <thead>\n",
              "    <tr style=\"text-align: right;\">\n",
              "      <th></th>\n",
              "      <th>total_bill</th>\n",
              "      <th>tip</th>\n",
              "      <th>sex</th>\n",
              "      <th>smoker</th>\n",
              "      <th>day</th>\n",
              "      <th>time</th>\n",
              "      <th>size</th>\n",
              "      <th>pct_tip</th>\n",
              "    </tr>\n",
              "  </thead>\n",
              "  <tbody>\n",
              "    <tr>\n",
              "      <th>0</th>\n",
              "      <td>16.99</td>\n",
              "      <td>1.01</td>\n",
              "      <td>Female</td>\n",
              "      <td>No</td>\n",
              "      <td>Sun</td>\n",
              "      <td>Dinner</td>\n",
              "      <td>2.0</td>\n",
              "      <td>5.944673</td>\n",
              "    </tr>\n",
              "    <tr>\n",
              "      <th>1</th>\n",
              "      <td>10.34</td>\n",
              "      <td>1.66</td>\n",
              "      <td>Male</td>\n",
              "      <td>No</td>\n",
              "      <td>Sun</td>\n",
              "      <td>Dinner</td>\n",
              "      <td>3.0</td>\n",
              "      <td>16.054159</td>\n",
              "    </tr>\n",
              "    <tr>\n",
              "      <th>2</th>\n",
              "      <td>21.01</td>\n",
              "      <td>3.50</td>\n",
              "      <td>Male</td>\n",
              "      <td>No</td>\n",
              "      <td>Sun</td>\n",
              "      <td>Dinner</td>\n",
              "      <td>3.0</td>\n",
              "      <td>16.658734</td>\n",
              "    </tr>\n",
              "    <tr>\n",
              "      <th>3</th>\n",
              "      <td>23.68</td>\n",
              "      <td>3.31</td>\n",
              "      <td>Male</td>\n",
              "      <td>No</td>\n",
              "      <td>Sun</td>\n",
              "      <td>Dinner</td>\n",
              "      <td>2.0</td>\n",
              "      <td>13.978041</td>\n",
              "    </tr>\n",
              "    <tr>\n",
              "      <th>4</th>\n",
              "      <td>24.59</td>\n",
              "      <td>3.61</td>\n",
              "      <td>Female</td>\n",
              "      <td>No</td>\n",
              "      <td>Sun</td>\n",
              "      <td>Dinner</td>\n",
              "      <td>4.0</td>\n",
              "      <td>14.680765</td>\n",
              "    </tr>\n",
              "    <tr>\n",
              "      <th>...</th>\n",
              "      <td>...</td>\n",
              "      <td>...</td>\n",
              "      <td>...</td>\n",
              "      <td>...</td>\n",
              "      <td>...</td>\n",
              "      <td>...</td>\n",
              "      <td>...</td>\n",
              "      <td>...</td>\n",
              "    </tr>\n",
              "    <tr>\n",
              "      <th>240</th>\n",
              "      <td>27.18</td>\n",
              "      <td>2.00</td>\n",
              "      <td>Female</td>\n",
              "      <td>Yes</td>\n",
              "      <td>Sat</td>\n",
              "      <td>Dinner</td>\n",
              "      <td>2.0</td>\n",
              "      <td>7.358352</td>\n",
              "    </tr>\n",
              "    <tr>\n",
              "      <th>241</th>\n",
              "      <td>22.67</td>\n",
              "      <td>2.00</td>\n",
              "      <td>Male</td>\n",
              "      <td>Yes</td>\n",
              "      <td>Sat</td>\n",
              "      <td>Dinner</td>\n",
              "      <td>2.0</td>\n",
              "      <td>8.822232</td>\n",
              "    </tr>\n",
              "    <tr>\n",
              "      <th>242</th>\n",
              "      <td>17.82</td>\n",
              "      <td>1.75</td>\n",
              "      <td>Male</td>\n",
              "      <td>No</td>\n",
              "      <td>Sat</td>\n",
              "      <td>Dinner</td>\n",
              "      <td>2.0</td>\n",
              "      <td>9.820426</td>\n",
              "    </tr>\n",
              "    <tr>\n",
              "      <th>243</th>\n",
              "      <td>18.78</td>\n",
              "      <td>3.00</td>\n",
              "      <td>Female</td>\n",
              "      <td>No</td>\n",
              "      <td>Thur</td>\n",
              "      <td>Dinner</td>\n",
              "      <td>2.0</td>\n",
              "      <td>15.974441</td>\n",
              "    </tr>\n",
              "    <tr>\n",
              "      <th>244</th>\n",
              "      <td>NaN</td>\n",
              "      <td>NaN</td>\n",
              "      <td>0.356557</td>\n",
              "      <td>0.618852</td>\n",
              "      <td>NaN</td>\n",
              "      <td>NaN</td>\n",
              "      <td>NaN</td>\n",
              "      <td>NaN</td>\n",
              "    </tr>\n",
              "  </tbody>\n",
              "</table>\n",
              "<p>245 rows × 8 columns</p>\n",
              "</div>"
            ],
            "text/plain": [
              "     total_bill   tip       sex    smoker   day    time  size    pct_tip\n",
              "0         16.99  1.01    Female        No   Sun  Dinner   2.0   5.944673\n",
              "1         10.34  1.66      Male        No   Sun  Dinner   3.0  16.054159\n",
              "2         21.01  3.50      Male        No   Sun  Dinner   3.0  16.658734\n",
              "3         23.68  3.31      Male        No   Sun  Dinner   2.0  13.978041\n",
              "4         24.59  3.61    Female        No   Sun  Dinner   4.0  14.680765\n",
              "..          ...   ...       ...       ...   ...     ...   ...        ...\n",
              "240       27.18  2.00    Female       Yes   Sat  Dinner   2.0   7.358352\n",
              "241       22.67  2.00      Male       Yes   Sat  Dinner   2.0   8.822232\n",
              "242       17.82  1.75      Male        No   Sat  Dinner   2.0   9.820426\n",
              "243       18.78  3.00    Female        No  Thur  Dinner   2.0  15.974441\n",
              "244         NaN   NaN  0.356557  0.618852   NaN     NaN   NaN        NaN\n",
              "\n",
              "[245 rows x 8 columns]"
            ]
          },
          "metadata": {
            "tags": []
          },
          "execution_count": 49
        }
      ]
    },
    {
      "cell_type": "markdown",
      "metadata": {
        "id": "fTCC27zKW6hl",
        "colab_type": "text"
      },
      "source": [
        "Does pct_tip differ by gender? Does one gender tip more than the other?"
      ]
    },
    {
      "cell_type": "code",
      "metadata": {
        "id": "RIZGXm7MWzE6",
        "colab_type": "code",
        "colab": {
          "base_uri": "https://localhost:8080/",
          "height": 118
        },
        "outputId": "18693f27-7422-40c8-e886-df6af60ffa85"
      },
      "source": [
        "print(NM.groupby('sex')['pct_tip'].sum())\n",
        "print('Yes pic_tip differ by Gender ')"
      ],
      "execution_count": 50,
      "outputs": [
        {
          "output_type": "stream",
          "text": [
            "sex\n",
            "0.35655737704918034       0.000000\n",
            "Female                 1448.469406\n",
            "Male                   2475.113588\n",
            "Name: pct_tip, dtype: float64\n",
            "Yes pic_tip differ by Gender \n"
          ],
          "name": "stdout"
        }
      ]
    },
    {
      "cell_type": "markdown",
      "metadata": {
        "id": "hCckTYovXCL1",
        "colab_type": "text"
      },
      "source": [
        "Does pct_tip differ by size (number of people at the table)? "
      ]
    },
    {
      "cell_type": "code",
      "metadata": {
        "id": "_fggrddyXA41",
        "colab_type": "code",
        "colab": {
          "base_uri": "https://localhost:8080/",
          "height": 168
        },
        "outputId": "7b10ac35-26f1-47d5-ede0-210fdc229f92"
      },
      "source": [
        "print(NM.groupby('size')['pct_tip'].sum())\n",
        "print('Yes pic_tip differ by size ')"
      ],
      "execution_count": 51,
      "outputs": [
        {
          "output_type": "stream",
          "text": [
            "size\n",
            "1.0      86.916806\n",
            "2.0    2585.219391\n",
            "3.0     578.196048\n",
            "4.0     540.011324\n",
            "5.0      70.747745\n",
            "6.0      62.491680\n",
            "Name: pct_tip, dtype: float64\n",
            "Yes pic_tip differ by size \n"
          ],
          "name": "stdout"
        }
      ]
    },
    {
      "cell_type": "markdown",
      "metadata": {
        "id": "rB2GpvjlXQ5j",
        "colab_type": "text"
      },
      "source": [
        "Make the gender vs. smoker view using pct_tip  - does your inference change?"
      ]
    },
    {
      "cell_type": "code",
      "metadata": {
        "id": "kx2L8AHdXLAH",
        "colab_type": "code",
        "colab": {
          "base_uri": "https://localhost:8080/",
          "height": 528
        },
        "outputId": "167bf9a1-5869-47fe-cb1d-1a4d72af8e1a"
      },
      "source": [
        "NM.groupby(['sex','smoker'])['pct_tip'].sum().plot(kind='bar')\n",
        "print('no inference does not change')"
      ],
      "execution_count": 52,
      "outputs": [
        {
          "output_type": "stream",
          "text": [
            "no inference does not change\n"
          ],
          "name": "stdout"
        },
        {
          "output_type": "display_data",
          "data": {
            "image/png": "[encoded data removed]",
            "text/plain": [
              "<Figure size 432x288 with 1 Axes>"
            ]
          },
          "metadata": {
            "tags": [],
            "needs_background": "light"
          }
        }
      ]
    },
    {
      "cell_type": "markdown",
      "metadata": {
        "id": "y88hdfkJXc4M",
        "colab_type": "text"
      },
      "source": [
        "Make a scatter plot of total_bill vs. tip."
      ]
    },
    {
      "cell_type": "code",
      "metadata": {
        "id": "50RCZMs4XWGf",
        "colab_type": "code",
        "colab": {
          "base_uri": "https://localhost:8080/",
          "height": 483
        },
        "outputId": "5eee914a-707d-45a1-b1b7-b0223383dd42"
      },
      "source": [
        "plt.scatter(NM['total_bill'],NM['tip'],c='r')\n",
        "print(NM.groupby('total_bill')['tip'].value_counts())"
      ],
      "execution_count": 55,
      "outputs": [
        {
          "output_type": "stream",
          "text": [
            "total_bill  tip  \n",
            "3.07        1.00     1\n",
            "5.75        1.00     1\n",
            "7.25        1.00     1\n",
            "            5.15     1\n",
            "7.51        2.00     1\n",
            "                    ..\n",
            "45.35       3.50     1\n",
            "48.17       5.00     1\n",
            "48.27       6.73     1\n",
            "48.33       9.00     1\n",
            "50.81       10.00    1\n",
            "Name: tip, Length: 242, dtype: int64\n"
          ],
          "name": "stdout"
        },
        {
          "output_type": "display_data",
          "data": {
            "image/png": "[encoded data removed]",
            "text/plain": [
              "<Figure size 432x288 with 1 Axes>"
            ]
          },
          "metadata": {
            "tags": [],
            "needs_background": "light"
          }
        }
      ]
    },
    {
      "cell_type": "markdown",
      "metadata": {
        "id": "Bg-nOLTIXsx_",
        "colab_type": "text"
      },
      "source": [
        "Make a scatter plot of total_bill vs. pct_tip."
      ]
    },
    {
      "cell_type": "code",
      "metadata": {
        "id": "qwDt7Wv7Xlon",
        "colab_type": "code",
        "colab": {
          "base_uri": "https://localhost:8080/",
          "height": 483
        },
        "outputId": "684de9ea-bc05-4a86-cc09-60316b40e224"
      },
      "source": [
        "plt.scatter(NM['total_bill'],NM['pct_tip'],c='y')\n",
        "print(NM.groupby('total_bill')['pct_tip'].value_counts())"
      ],
      "execution_count": 57,
      "outputs": [
        {
          "output_type": "stream",
          "text": [
            "total_bill  pct_tip  \n",
            "3.07        32.573290    1\n",
            "5.75        17.391304    1\n",
            "7.25        13.793103    1\n",
            "            71.034483    1\n",
            "7.51        26.631158    1\n",
            "                        ..\n",
            "45.35       7.717751     1\n",
            "48.17       10.379905    1\n",
            "48.27       13.942407    1\n",
            "48.33       18.621974    1\n",
            "50.81       19.681165    1\n",
            "Name: pct_tip, Length: 242, dtype: int64\n"
          ],
          "name": "stdout"
        },
        {
          "output_type": "display_data",
          "data": {
            "image/png": "[encoded data removed]",
            "text/plain": [
              "<Figure size 432x288 with 1 Axes>"
            ]
          },
          "metadata": {
            "tags": [],
            "needs_background": "light"
          }
        }
      ]
    },
    {
      "cell_type": "code",
      "metadata": {
        "id": "imY_bKpvX2gA",
        "colab_type": "code",
        "colab": {}
      },
      "source": [
        ""
      ],
      "execution_count": null,
      "outputs": []
    }
  ]
}