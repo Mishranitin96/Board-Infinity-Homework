{
  "nbformat": 4,
  "nbformat_minor": 0,
  "metadata": {
    "colab": {
      "name": "Python hands on Practice 4.ipynb",
      "provenance": [],
      "authorship_tag": "ABX9TyP8y1p17bVKkSX/pT78ul+v",
      "include_colab_link": true
    },
    "kernelspec": {
      "name": "python3",
      "display_name": "Python 3"
    }
  },
  "cells": [
    {
      "cell_type": "markdown",
      "metadata": {
        "id": "view-in-github",
        "colab_type": "text"
      },
      "source": [
        "<a href=\"https://colab.research.google.com/github/Mishranitin96/Board-Infinity-Homework/blob/master/Python_hands_on_Practice_4.ipynb\" target=\"_parent\"><img src=\"https://colab.research.google.com/assets/colab-badge.svg\" alt=\"Open In Colab\"/></a>"
      ]
    },
    {
      "cell_type": "markdown",
      "metadata": {
        "id": "W6QoLXihDeBN",
        "colab_type": "text"
      },
      "source": [
        "1. Write a Python program which accepts the radius of a circle from the user and\n",
        "compute the area."
      ]
    },
    {
      "cell_type": "code",
      "metadata": {
        "id": "ED7aUVVYDmya",
        "colab_type": "code",
        "colab": {}
      },
      "source": [
        "import math as m"
      ],
      "execution_count": 0,
      "outputs": []
    },
    {
      "cell_type": "code",
      "metadata": {
        "id": "0hIV1y3WDsnm",
        "colab_type": "code",
        "colab": {
          "base_uri": "https://localhost:8080/",
          "height": 50
        },
        "outputId": "039be0a9-01a3-4a53-f46b-d540ecefeb2d"
      },
      "source": [
        "r = float(input(\"Enter Radius of Circle in cm : \"))\n",
        "Area = m.pi*r**2\n",
        "print(\"Area of a Circle \", r ,\"is\", Area, \"Sq.cm\")"
      ],
      "execution_count": 3,
      "outputs": [
        {
          "output_type": "stream",
          "text": [
            "Enter Radius of Circle in cm : 22\n",
            "Area of a Circle  22.0 is 1520.53084433746 Sq.cm\n"
          ],
          "name": "stdout"
        }
      ]
    },
    {
      "cell_type": "markdown",
      "metadata": {
        "id": "jItgns0nFTDx",
        "colab_type": "text"
      },
      "source": [
        "2. Write a Python program which accepts the user's first and last name and print\n",
        "them in reverse order with a space between them."
      ]
    },
    {
      "cell_type": "code",
      "metadata": {
        "id": "Uch9JFwhE1qS",
        "colab_type": "code",
        "colab": {
          "base_uri": "https://localhost:8080/",
          "height": 67
        },
        "outputId": "c3284a12-fa59-4e5f-d559-39d3993fbe50"
      },
      "source": [
        "Name_A = input(\"Enter your First Name : \")\n",
        "Name_B = input(\"Enter your Last Name : \")\n",
        "Name = Name_B + \"  \" + Name_A\n",
        "print(Name)"
      ],
      "execution_count": 5,
      "outputs": [
        {
          "output_type": "stream",
          "text": [
            "Enter your First Name : Nitin\n",
            "Enter your Last Name : Mishra\n",
            "Mishra  Nitin\n"
          ],
          "name": "stdout"
        }
      ]
    },
    {
      "cell_type": "markdown",
      "metadata": {
        "id": "_pqDWZgiIOxj",
        "colab_type": "text"
      },
      "source": [
        "3. Write a Python program which checks if the input number is divisible by 3 or not."
      ]
    },
    {
      "cell_type": "code",
      "metadata": {
        "id": "36KGoneHHmr4",
        "colab_type": "code",
        "colab": {
          "base_uri": "https://localhost:8080/",
          "height": 50
        },
        "outputId": "2def69cb-e190-44f4-d87f-96c7f785341f"
      },
      "source": [
        "Number = float(input(\"Input any number : \"))\n",
        "if Number%3 ==0:\n",
        "  print(\"Entered Number is divisible by 3\")\n",
        "else :\n",
        "  print(\"Entered Number is not divisible by 3\")\n",
        "\n",
        "  "
      ],
      "execution_count": 6,
      "outputs": [
        {
          "output_type": "stream",
          "text": [
            "Input any number : 75\n",
            "Entered Number is divisible by 3\n"
          ],
          "name": "stdout"
        }
      ]
    },
    {
      "cell_type": "markdown",
      "metadata": {
        "id": "8RlJeasrJlCJ",
        "colab_type": "text"
      },
      "source": [
        "4. Write a Python program to implement 5 functions of the math module (other than\n",
        "what was taught in the session)."
      ]
    },
    {
      "cell_type": "code",
      "metadata": {
        "id": "utDsvo7vJgxA",
        "colab_type": "code",
        "colab": {
          "base_uri": "https://localhost:8080/",
          "height": 118
        },
        "outputId": "0b9b38f1-cafa-4ed8-847f-a64a6902b9f8"
      },
      "source": [
        "Number1 = float(input(\"Enter any Number : \"))\n",
        "Tan = m.tan(Number1)\n",
        "sin = m.sin(Number1)\n",
        "Cosine = m.cos(Number1)\n",
        "Exp = m.exp(Number1)\n",
        "log = m.log(Number1)\n",
        "print(\"Tan of \", Number1 , \"is : \", Tan)\n",
        "print(\"sin of \", Number1 , \"is : \", sin)\n",
        "print(\"Cosine of \", Number1 , \"is : \", Cosine)\n",
        "print(\"Exponential of \", Number1 , \"is : \", Exp)\n",
        "print(\"log of \", Number1 , \"is : \", log)\n",
        "\n",
        "\n"
      ],
      "execution_count": 13,
      "outputs": [
        {
          "output_type": "stream",
          "text": [
            "Enter any Number : 12.9\n",
            "Tan of  12.9 is :  0.34658512997910035\n",
            "sin of  12.9 is :  0.32747443913769303\n",
            "Cosine of  12.9 is :  0.9448600381598606\n",
            "Exponential of  12.9 is :  400312.1913298826\n",
            "log of  12.9 is :  2.5572273113676265\n"
          ],
          "name": "stdout"
        }
      ]
    },
    {
      "cell_type": "markdown",
      "metadata": {
        "id": "BoZKkheMRLtd",
        "colab_type": "text"
      },
      "source": [
        "5. WAP to do a sum of squares."
      ]
    },
    {
      "cell_type": "code",
      "metadata": {
        "id": "ZQv9r3aZPoFy",
        "colab_type": "code",
        "colab": {
          "base_uri": "https://localhost:8080/",
          "height": 84
        },
        "outputId": "bc1be868-dcb6-4bbd-b684-64559e7c8086"
      },
      "source": [
        "n = int(input(\"Upto which Number : \"))\n",
        "import numpy as np\n",
        "\n",
        "numbers = np.arange(1,n+1)\n",
        "print(\"numbers are : \", numbers)\n",
        "sq_num = np.square(numbers)\n",
        "print(\"square of entered numbers : \", sq_num)\n",
        "\n",
        "Sum = 0\n",
        "for i in range(0,len(sq_num)) : \n",
        "  Sum = Sum + sq_num[i]\n",
        "print(\"Sum of square of first \", n , \"Natural number is : \", Sum)"
      ],
      "execution_count": 21,
      "outputs": [
        {
          "output_type": "stream",
          "text": [
            "Upto which Number : 9\n",
            "numbers are :  [1 2 3 4 5 6 7 8 9]\n",
            "square of entered numbers :  [ 1  4  9 16 25 36 49 64 81]\n",
            "Sum of square of first  9 Natural number is :  285\n"
          ],
          "name": "stdout"
        }
      ]
    },
    {
      "cell_type": "markdown",
      "metadata": {
        "id": "9HxJLcKrgUkd",
        "colab_type": "text"
      },
      "source": [
        "6. Write a void function that receives a 4 digit number and calculates the sum of\n",
        "squares of first 2 digits number and last two-digit number (Hint:- if 1233 is passed\n",
        "as an argument then the function should calculate 12**2+33**2)"
      ]
    },
    {
      "cell_type": "code",
      "metadata": {
        "id": "gg7Mljb_j79N",
        "colab_type": "code",
        "colab": {
          "base_uri": "https://localhost:8080/",
          "height": 50
        },
        "outputId": "55af7372-9213-4c58-dbcc-8c952e03ce27"
      },
      "source": [
        "number = input(\"Enter any 4 digit number : \")\n",
        "numA = int(number[0:2])\n",
        "numB = int(number[2:])\n",
        "print(\"Addition of squares of\", numA, \"and\", numB, \"=\", numA**2+numB**2)"
      ],
      "execution_count": 26,
      "outputs": [
        {
          "output_type": "stream",
          "text": [
            "Enter any 4 digit number : 1972\n",
            "Addition of squares of 19 and 72 = 5545\n"
          ],
          "name": "stdout"
        }
      ]
    },
    {
      "cell_type": "markdown",
      "metadata": {
        "id": "3mz4QBMXihjy",
        "colab_type": "text"
      },
      "source": [
        "7. Write a function that takes one argument (a +ve int) and report if the argument is\n",
        "prime or not.WAP that invokes this function."
      ]
    },
    {
      "cell_type": "code",
      "metadata": {
        "id": "eE39K5PrkzVr",
        "colab_type": "code",
        "colab": {
          "base_uri": "https://localhost:8080/",
          "height": 50
        },
        "outputId": "31480378-c649-454c-d888-6133d80f2af9"
      },
      "source": [
        "def is_prime(num): \n",
        "  nums = np.arange(2,num) \n",
        "  list(nums)\n",
        "  for i in nums:\n",
        "    if num%i == 0:\n",
        "      print(num, \" is not a Prime number\")\n",
        "      break\n",
        "  else:\n",
        "    print(num,\" is a Prime Number\")\n",
        "\n",
        "\n",
        "num=int(input(\"Enter a number:- \"))\n",
        "if num == 1:\n",
        "  print(num, \"is a not a prime number\")\n",
        "elif num<1:\n",
        "  print(\"Enter a positive integer\")\n",
        "else:\n",
        "  is_prime(num)"
      ],
      "execution_count": 31,
      "outputs": [
        {
          "output_type": "stream",
          "text": [
            "Enter a number:- 4\n",
            "4  is not a Prime number\n"
          ],
          "name": "stdout"
        }
      ]
    },
    {
      "cell_type": "markdown",
      "metadata": {
        "id": "sVOha60DmAZQ",
        "colab_type": "text"
      },
      "source": [
        "8. WAP that takes a character (i.e a string of length 1) and returns TRUE if it is a\n",
        "vowel, FALSE otherwise. (Hint: Make use of logical operator)"
      ]
    },
    {
      "cell_type": "code",
      "metadata": {
        "id": "brQ0MxDZlogi",
        "colab_type": "code",
        "colab": {
          "base_uri": "https://localhost:8080/",
          "height": 50
        },
        "outputId": "d0fbd370-1a37-49f2-89d1-0478a956ee36"
      },
      "source": [
        "vovels = ['a', 'e', 'i', 'o', 'u']\n",
        "char = input(\"Enter a singel character : \")\n",
        "for i in vovels :\n",
        "  if char in vovels :\n",
        "    print(True, char, \"is a Vovel\")\n",
        "    break\n",
        "  elif char not in vovels :\n",
        "    print(False, char, \"is not a vovel\")\n",
        "    break"
      ],
      "execution_count": 34,
      "outputs": [
        {
          "output_type": "stream",
          "text": [
            "Enter a singel character : m\n",
            "False m is not a vovel\n"
          ],
          "name": "stdout"
        }
      ]
    },
    {
      "cell_type": "markdown",
      "metadata": {
        "id": "r9X-PMSEmisv",
        "colab_type": "text"
      },
      "source": [
        "9. WAP to get the last digit cube."
      ]
    },
    {
      "cell_type": "code",
      "metadata": {
        "id": "O9V7GbuvmZkS",
        "colab_type": "code",
        "colab": {
          "base_uri": "https://localhost:8080/",
          "height": 50
        },
        "outputId": "c1b85e9d-ddbc-4712-8017-892218bf13f4"
      },
      "source": [
        "numb = input(\"Enter a number : \")\n",
        "digit = int(numb[-1])\n",
        "print(\"Cube of last digit \", digit, \" is : \", digit**3)"
      ],
      "execution_count": 36,
      "outputs": [
        {
          "output_type": "stream",
          "text": [
            "Enter a number : 127\n",
            "Cube of last digit  7  is :  343\n"
          ],
          "name": "stdout"
        }
      ]
    },
    {
      "cell_type": "markdown",
      "metadata": {
        "id": "mwAxg346na8F",
        "colab_type": "text"
      },
      "source": [
        "10.Write a Python program that takes a list and returns a new list with unique\n",
        "elements of the first list."
      ]
    },
    {
      "cell_type": "code",
      "metadata": {
        "id": "wVjzxIJ5nDeU",
        "colab_type": "code",
        "colab": {
          "base_uri": "https://localhost:8080/",
          "height": 50
        },
        "outputId": "620902e3-c253-4d25-efd7-ee800fe28170"
      },
      "source": [
        "list9 = list(input(\"Enter a List : \"))\n",
        "unique_list = []\n",
        "for i in list9 :\n",
        "  if i not in unique_list:\n",
        "    unique_list.append(i)\n",
        "print(\"Unique List is = \", unique_list)"
      ],
      "execution_count": 37,
      "outputs": [
        {
          "output_type": "stream",
          "text": [
            "Enter a List : Master_list\n",
            "Unique List is =  ['M', 'a', 's', 't', 'e', 'r', '_', 'l', 'i']\n"
          ],
          "name": "stdout"
        }
      ]
    },
    {
      "cell_type": "code",
      "metadata": {
        "id": "vJOPP3Shnvvn",
        "colab_type": "code",
        "colab": {}
      },
      "source": [
        ""
      ],
      "execution_count": 0,
      "outputs": []
    }
  ]
}