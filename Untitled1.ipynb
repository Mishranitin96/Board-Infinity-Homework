{
  "nbformat": 4,
  "nbformat_minor": 0,
  "metadata": {
    "colab": {
      "name": "Untitled1.ipynb",
      "provenance": [],
      "authorship_tag": "ABX9TyOCE+kc2zKJhyMiXR1vRtFr",
      "include_colab_link": true
    },
    "kernelspec": {
      "name": "python3",
      "display_name": "Python 3"
    },
    "accelerator": "GPU"
  },
  "cells": [
    {
      "cell_type": "markdown",
      "metadata": {
        "id": "view-in-github",
        "colab_type": "text"
      },
      "source": [
        "<a href=\"https://colab.research.google.com/github/Mishranitin96/Board-Infinity-Homework/blob/master/Untitled1.ipynb\" target=\"_parent\"><img src=\"https://colab.research.google.com/assets/colab-badge.svg\" alt=\"Open In Colab\"/></a>"
      ]
    },
    {
      "cell_type": "markdown",
      "metadata": {
        "id": "rCybx_JKpXrP",
        "colab_type": "text"
      },
      "source": [
        "Ask the user for his age, if age greater than 18 then print adult, if less then print teenager, remember to set the datatype to an integer like so, int(input())\n"
      ]
    },
    {
      "cell_type": "code",
      "metadata": {
        "id": "sIFFN0jQpZaW",
        "colab_type": "code",
        "colab": {
          "base_uri": "https://localhost:8080/",
          "height": 105
        },
        "outputId": "19f1141d-416a-4cba-bb15-65ab84e9dcce"
      },
      "source": [
        "print (\"Please enter your age\\n\")\n",
        "age = int(input())\n",
        "if age>=18 :\n",
        "  print (\"You are an Adult\\n\")\n",
        "else : \n",
        "  print (\"You are an Teenager\\n\")"
      ],
      "execution_count": 7,
      "outputs": [
        {
          "output_type": "stream",
          "text": [
            "Please enter your age\n",
            "\n",
            "17\n",
            "You are an Teenager\n",
            "\n"
          ],
          "name": "stdout"
        }
      ]
    },
    {
      "cell_type": "markdown",
      "metadata": {
        "id": "X4sYCZFyrEuZ",
        "colab_type": "text"
      },
      "source": [
        "Make a personal loan approving system, Ask the user for his monthly income. Then ask him if he has an ongoing loan (yes|no), if the user’s income is more than 100000, and his answer to an ongoing loan is no then approve his loan, else reject his loan.\n"
      ]
    },
    {
      "cell_type": "code",
      "metadata": {
        "id": "MChy9iiSrL70",
        "colab_type": "code",
        "colab": {
          "base_uri": "https://localhost:8080/",
          "height": 158
        },
        "outputId": "5bf056e3-2eb9-4de6-a155-fb36add2d610"
      },
      "source": [
        "print (\"What is your monthly Income\\n\")\n",
        "Income = int(input())\n",
        "if Income >=100000 :\n",
        "  print (\"Do you have any Ongoing_Loan ?\\n\")\n",
        "  Ongoing_Loan = str(input())\n",
        "  if Ongoing_Loan == \"Yes\" : \n",
        "    print (\"Sorry, You are not Eligible for Loan\\n\")\n",
        "  else :\n",
        "    print (\"Congrats ! You are Eligible for Loan\\n\")\n",
        "else :\n",
        "  print (\"Sorry, You are not Eligible for Loan\\n\")"
      ],
      "execution_count": 16,
      "outputs": [
        {
          "output_type": "stream",
          "text": [
            "What is your monthly Income\n",
            "\n",
            "500000\n",
            "Do you have any Ongoing_Loan ?\n",
            "\n",
            "no\n",
            "Congrats ! You are Eligible for Loan\n",
            "\n"
          ],
          "name": "stdout"
        }
      ]
    },
    {
      "cell_type": "markdown",
      "metadata": {
        "id": "Y3TULItyutTB",
        "colab_type": "text"
      },
      "source": [
        "Ask the user if Female (yes|no), if ‘yes’ then print ‘You are a Girl’ else print, ‘You are a boy’\n"
      ]
    },
    {
      "cell_type": "code",
      "metadata": {
        "id": "ZWJeQzBgu1PN",
        "colab_type": "code",
        "colab": {
          "base_uri": "https://localhost:8080/",
          "height": 105
        },
        "outputId": "70c3e30c-3b2b-4100-9a4b-6557c64ae784"
      },
      "source": [
        "print (\"Are you a Female?\\n\")\n",
        "gender = str(input())\n",
        "if gender == \"yes\" :\n",
        "  print (\"You are a Girl\\n\")\n",
        "else :\n",
        "  print (\"You are a Boy\\n\")"
      ],
      "execution_count": 19,
      "outputs": [
        {
          "output_type": "stream",
          "text": [
            "Are you a Female?\n",
            "\n",
            "yes\n",
            "You are a Girl\n",
            "\n"
          ],
          "name": "stdout"
        }
      ]
    },
    {
      "cell_type": "markdown",
      "metadata": {
        "id": "Z-aRX4K3wEhu",
        "colab_type": "text"
      },
      "source": [
        "Make a list of random numbers and print them all using a for loop\n"
      ]
    },
    {
      "cell_type": "code",
      "metadata": {
        "id": "vEUJp7-4vvDP",
        "colab_type": "code",
        "colab": {
          "base_uri": "https://localhost:8080/",
          "height": 281
        },
        "outputId": "1076a9b9-9fcf-4e7a-d1b0-6dbb29a0fb52"
      },
      "source": [
        "numbers = [0,1,3,5,4,6,7,8,9,55,64,89,101,26,45]\n",
        "for x in numbers :\n",
        "  print (x)"
      ],
      "execution_count": 20,
      "outputs": [
        {
          "output_type": "stream",
          "text": [
            "0\n",
            "1\n",
            "3\n",
            "5\n",
            "4\n",
            "6\n",
            "7\n",
            "8\n",
            "9\n",
            "55\n",
            "64\n",
            "89\n",
            "101\n",
            "26\n",
            "45\n"
          ],
          "name": "stdout"
        }
      ]
    },
    {
      "cell_type": "markdown",
      "metadata": {
        "id": "JDvHlwVAxioa",
        "colab_type": "text"
      },
      "source": [
        "Make a list of random number and print only even numbers\n"
      ]
    },
    {
      "cell_type": "code",
      "metadata": {
        "id": "8ZxkhPobw0nw",
        "colab_type": "code",
        "colab": {
          "base_uri": "https://localhost:8080/",
          "height": 246
        },
        "outputId": "67c50498-417c-4005-8d1c-6ea5dac4e261"
      },
      "source": [
        "numbers = [0,1,2,3,4,5,6,7,8,9,10,11,22,33,44,55,66,78,19,15,46,48,50,25,]\n",
        "for x in numbers :\n",
        "  if x%2 == 0 :\n",
        "    print (x)"
      ],
      "execution_count": 21,
      "outputs": [
        {
          "output_type": "stream",
          "text": [
            "0\n",
            "2\n",
            "4\n",
            "6\n",
            "8\n",
            "10\n",
            "22\n",
            "44\n",
            "66\n",
            "78\n",
            "46\n",
            "48\n",
            "50\n"
          ],
          "name": "stdout"
        }
      ]
    },
    {
      "cell_type": "markdown",
      "metadata": {
        "id": "fngJnu_fyOw1",
        "colab_type": "text"
      },
      "source": [
        "Make a dictionary called (myself) with the following keys (name, age, gender and favourite food) and using a for loop print out only the keys"
      ]
    },
    {
      "cell_type": "code",
      "metadata": {
        "colab_type": "code",
        "id": "yJJus86ryyph",
        "colab": {
          "base_uri": "https://localhost:8080/",
          "height": 87
        },
        "outputId": "6b1f06c4-9517-46e9-88af-0587f55e5b3e"
      },
      "source": [
        "myself = {\"name\" : \"nitin\", \"age\" : \"24\", \"gender\" : \"male\", \"favourite_food\" : \"indian_cultural_food\"}\n",
        "for x in myself :\n",
        "  print (x)"
      ],
      "execution_count": 22,
      "outputs": [
        {
          "output_type": "stream",
          "text": [
            "name\n",
            "age\n",
            "gender\n",
            "favourite_food\n"
          ],
          "name": "stdout"
        }
      ]
    },
    {
      "cell_type": "markdown",
      "metadata": {
        "id": "PuiOxk9PzQK0",
        "colab_type": "text"
      },
      "source": [
        "From the dictionary ‘myself’, print only the values"
      ]
    },
    {
      "cell_type": "code",
      "metadata": {
        "id": "mtTRoBDAzH7C",
        "colab_type": "code",
        "colab": {
          "base_uri": "https://localhost:8080/",
          "height": 87
        },
        "outputId": "4d2ad54f-d1de-443c-e71c-e5efd80dfb1a"
      },
      "source": [
        "for x in myself :\n",
        "  print (myself[x])"
      ],
      "execution_count": 23,
      "outputs": [
        {
          "output_type": "stream",
          "text": [
            "nitin\n",
            "24\n",
            "male\n",
            "indian_cultural_food\n"
          ],
          "name": "stdout"
        }
      ]
    },
    {
      "cell_type": "markdown",
      "metadata": {
        "id": "d83zmGhzzfwX",
        "colab_type": "text"
      },
      "source": [
        "From the dictionary ‘myself’, print both the keys and their values"
      ]
    },
    {
      "cell_type": "code",
      "metadata": {
        "id": "3bbMIXnAzgbZ",
        "colab_type": "code",
        "colab": {
          "base_uri": "https://localhost:8080/",
          "height": 87
        },
        "outputId": "dc4813f8-0389-4bec-a1bc-ab28c1e342e1"
      },
      "source": [
        "for x in myself :\n",
        "  print (x, \"-\", myself[x])"
      ],
      "execution_count": 26,
      "outputs": [
        {
          "output_type": "stream",
          "text": [
            "name - nitin\n",
            "age - 24\n",
            "gender - male\n",
            "favourite_food - indian_cultural_food\n"
          ],
          "name": "stdout"
        }
      ]
    },
    {
      "cell_type": "markdown",
      "metadata": {
        "id": "4mC1HqTvz-bH",
        "colab_type": "text"
      },
      "source": [
        "Create a method that takes the persons name as argument and returns it"
      ]
    },
    {
      "cell_type": "code",
      "metadata": {
        "id": "MkaezRm8zo6i",
        "colab_type": "code",
        "colab": {
          "base_uri": "https://localhost:8080/",
          "height": 52
        },
        "outputId": "c6e17253-f47e-4c0e-b697-4774b3933319"
      },
      "source": [
        "def name(Name):\n",
        "  print (Name)\n",
        "Name = input('Enter you name-')\n",
        "name(Name)"
      ],
      "execution_count": 28,
      "outputs": [
        {
          "output_type": "stream",
          "text": [
            "Enter you name-Nitin\n",
            "Nitin\n"
          ],
          "name": "stdout"
        }
      ]
    },
    {
      "cell_type": "markdown",
      "metadata": {
        "id": "Hl7p6Z_f0n51",
        "colab_type": "text"
      },
      "source": [
        "Create a function that takes a dictionary as an input and prints all the keys of the dictionary"
      ]
    },
    {
      "cell_type": "code",
      "metadata": {
        "colab_type": "code",
        "id": "-NvfmD8D1Yv6",
        "colab": {}
      },
      "source": [
        "myself = {\"name\" : \"nitin\", \"age\" : \"24\", \"gender\" : \"male\", \"favourite_food\" : \"indian_cultural_food\"}\n",
        "def print_keys (x):\n",
        "  return x.keys()"
      ],
      "execution_count": 0,
      "outputs": []
    },
    {
      "cell_type": "code",
      "metadata": {
        "id": "-CukHRqh1R2n",
        "colab_type": "code",
        "colab": {
          "base_uri": "https://localhost:8080/",
          "height": 34
        },
        "outputId": "966be0e7-3d36-41f7-a28c-4195ad2bd9e6"
      },
      "source": [
        "print_keys(myself)"
      ],
      "execution_count": 32,
      "outputs": [
        {
          "output_type": "execute_result",
          "data": {
            "text/plain": [
              "dict_keys(['name', 'age', 'gender', 'favourite_food'])"
            ]
          },
          "metadata": {
            "tags": []
          },
          "execution_count": 32
        }
      ]
    },
    {
      "cell_type": "markdown",
      "metadata": {
        "id": "7bO3G3y11l_y",
        "colab_type": "text"
      },
      "source": [
        "Create a function that takes a list of 10 random numbers and prints out only odd numbers"
      ]
    },
    {
      "cell_type": "code",
      "metadata": {
        "id": "xsh2fvnm1fin",
        "colab_type": "code",
        "colab": {}
      },
      "source": [
        "numbers = [0,1,2,3,4,5,6,7,8,9,10,11,12,13,14,15,16,17,18,19,20]\n",
        "def odd_numbers (a):\n",
        "  for x in numbers :\n",
        "    if x%2 !=0 :\n",
        "      print (x)\n"
      ],
      "execution_count": 0,
      "outputs": []
    },
    {
      "cell_type": "code",
      "metadata": {
        "id": "gXsuof5H2PX4",
        "colab_type": "code",
        "colab": {
          "base_uri": "https://localhost:8080/",
          "height": 193
        },
        "outputId": "5edbed79-55d8-4a0a-e939-9cc1e718bd50"
      },
      "source": [
        "odd_numbers(numbers)"
      ],
      "execution_count": 34,
      "outputs": [
        {
          "output_type": "stream",
          "text": [
            "1\n",
            "3\n",
            "5\n",
            "7\n",
            "9\n",
            "11\n",
            "13\n",
            "15\n",
            "17\n",
            "19\n"
          ],
          "name": "stdout"
        }
      ]
    },
    {
      "cell_type": "markdown",
      "metadata": {
        "id": "dvwx__hs2YZV",
        "colab_type": "text"
      },
      "source": [
        "Define 4 variables of type, string, float, integer and boolean print the data type for each variables"
      ]
    },
    {
      "cell_type": "code",
      "metadata": {
        "id": "wsUO3SFj2VnC",
        "colab_type": "code",
        "colab": {}
      },
      "source": [
        "name = (\"Nitin\") #string variable\n",
        "height = 175.44 #float variable\n",
        "age = 24 #integer variable\n",
        "male = True #boolean variable"
      ],
      "execution_count": 0,
      "outputs": []
    },
    {
      "cell_type": "code",
      "metadata": {
        "id": "UIcsXHrT3V1i",
        "colab_type": "code",
        "colab": {
          "base_uri": "https://localhost:8080/",
          "height": 34
        },
        "outputId": "42a583d1-e82a-43e1-d66d-2e035778d382"
      },
      "source": [
        "print (type(name), type(height), type(age), type(male))"
      ],
      "execution_count": 39,
      "outputs": [
        {
          "output_type": "stream",
          "text": [
            "<class 'str'> <class 'float'> <class 'int'> <class 'bool'>\n"
          ],
          "name": "stdout"
        }
      ]
    },
    {
      "cell_type": "markdown",
      "metadata": {
        "id": "yKm-q1i730NQ",
        "colab_type": "text"
      },
      "source": [
        "1. integer to float"
      ]
    },
    {
      "cell_type": "code",
      "metadata": {
        "id": "xQvZmEsi3nWG",
        "colab_type": "code",
        "colab": {
          "base_uri": "https://localhost:8080/",
          "height": 34
        },
        "outputId": "ba071076-e670-4de1-c288-8c82baf3f6eb"
      },
      "source": [
        "age = 24\n",
        "float (age)"
      ],
      "execution_count": 40,
      "outputs": [
        {
          "output_type": "execute_result",
          "data": {
            "text/plain": [
              "24.0"
            ]
          },
          "metadata": {
            "tags": []
          },
          "execution_count": 40
        }
      ]
    },
    {
      "cell_type": "markdown",
      "metadata": {
        "id": "1PfwwyO24FVD",
        "colab_type": "text"
      },
      "source": [
        "2. string to integer"
      ]
    },
    {
      "cell_type": "code",
      "metadata": {
        "id": "v5juWVqP4HIV",
        "colab_type": "code",
        "colab": {
          "base_uri": "https://localhost:8080/",
          "height": 34
        },
        "outputId": "d04b4e2b-95c0-4b3d-c98a-032d9ae71d73"
      },
      "source": [
        "age = \"24\"\n",
        "int (age)"
      ],
      "execution_count": 42,
      "outputs": [
        {
          "output_type": "execute_result",
          "data": {
            "text/plain": [
              "24"
            ]
          },
          "metadata": {
            "tags": []
          },
          "execution_count": 42
        }
      ]
    },
    {
      "cell_type": "markdown",
      "metadata": {
        "id": "3yxhdYp74URr",
        "colab_type": "text"
      },
      "source": [
        "3. integer to string"
      ]
    },
    {
      "cell_type": "code",
      "metadata": {
        "id": "FlSpG6yx4OgK",
        "colab_type": "code",
        "colab": {
          "base_uri": "https://localhost:8080/",
          "height": 34
        },
        "outputId": "e78ef7ef-b39e-4249-f561-96e5de70c35c"
      },
      "source": [
        "age = 24\n",
        "str (age)"
      ],
      "execution_count": 44,
      "outputs": [
        {
          "output_type": "execute_result",
          "data": {
            "text/plain": [
              "'24'"
            ]
          },
          "metadata": {
            "tags": []
          },
          "execution_count": 44
        }
      ]
    },
    {
      "cell_type": "markdown",
      "metadata": {
        "id": "W2CygeNe4pmI",
        "colab_type": "text"
      },
      "source": [
        "4. bool to string"
      ]
    },
    {
      "cell_type": "code",
      "metadata": {
        "id": "wnISGoib4fyW",
        "colab_type": "code",
        "colab": {
          "base_uri": "https://localhost:8080/",
          "height": 34
        },
        "outputId": "4b55df8e-3b40-4ad6-fb40-097503042178"
      },
      "source": [
        "male = True\n",
        "str (male)"
      ],
      "execution_count": 46,
      "outputs": [
        {
          "output_type": "execute_result",
          "data": {
            "text/plain": [
              "'True'"
            ]
          },
          "metadata": {
            "tags": []
          },
          "execution_count": 46
        }
      ]
    },
    {
      "cell_type": "markdown",
      "metadata": {
        "id": "MZqwp6Hn46Bd",
        "colab_type": "text"
      },
      "source": [
        "Import the following class from SKlearn API"
      ]
    },
    {
      "cell_type": "code",
      "metadata": {
        "id": "Z26gw-uD4yB7",
        "colab_type": "code",
        "colab": {}
      },
      "source": [
        "from sklearn import datasets"
      ],
      "execution_count": 0,
      "outputs": []
    },
    {
      "cell_type": "code",
      "metadata": {
        "id": "FDCJqEqE5Hr-",
        "colab_type": "code",
        "colab": {}
      },
      "source": [
        "from sklearn.ensemble import RandomForestClassifier"
      ],
      "execution_count": 0,
      "outputs": []
    },
    {
      "cell_type": "code",
      "metadata": {
        "id": "D8rCmEW05zYH",
        "colab_type": "code",
        "colab": {}
      },
      "source": [
        "from sklearn.naive_bayes import GaussianNB"
      ],
      "execution_count": 0,
      "outputs": []
    },
    {
      "cell_type": "code",
      "metadata": {
        "id": "OEn2lEyb6YNr",
        "colab_type": "code",
        "colab": {}
      },
      "source": [
        "from sklearn.tree import DecisionTreeClassifier"
      ],
      "execution_count": 0,
      "outputs": []
    },
    {
      "cell_type": "code",
      "metadata": {
        "id": "tlg0iUnQ6eJ8",
        "colab_type": "code",
        "colab": {}
      },
      "source": [
        "from sklearn.linear_model import LinearRegression"
      ],
      "execution_count": 0,
      "outputs": []
    },
    {
      "cell_type": "code",
      "metadata": {
        "id": "WrMORe756r2A",
        "colab_type": "code",
        "colab": {}
      },
      "source": [
        "from sklearn.cluster import KMeans"
      ],
      "execution_count": 0,
      "outputs": []
    },
    {
      "cell_type": "code",
      "metadata": {
        "id": "m7F-unQX63QG",
        "colab_type": "code",
        "colab": {}
      },
      "source": [
        "from sklearn.model_selection import train_test_split"
      ],
      "execution_count": 0,
      "outputs": []
    },
    {
      "cell_type": "code",
      "metadata": {
        "id": "cbxd1ex57Dmf",
        "colab_type": "code",
        "colab": {}
      },
      "source": [
        "from sklearn.metrics import classification_report"
      ],
      "execution_count": 0,
      "outputs": []
    },
    {
      "cell_type": "code",
      "metadata": {
        "id": "JyZXXlbi7MH8",
        "colab_type": "code",
        "colab": {}
      },
      "source": [
        "from sklearn.metrics import accuracy_score"
      ],
      "execution_count": 0,
      "outputs": []
    },
    {
      "cell_type": "code",
      "metadata": {
        "id": "LTWqZte97WOW",
        "colab_type": "code",
        "colab": {}
      },
      "source": [
        ""
      ],
      "execution_count": 0,
      "outputs": []
    }
  ]
}