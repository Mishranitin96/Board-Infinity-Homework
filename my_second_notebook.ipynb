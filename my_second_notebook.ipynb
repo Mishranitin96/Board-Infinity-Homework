{
  "nbformat": 4,
  "nbformat_minor": 0,
  "metadata": {
    "colab": {
      "name": "my second notebook.ipynb",
      "provenance": [],
      "authorship_tag": "ABX9TyOCHnFMxGs3B6Cy2lqZJMcn",
      "include_colab_link": true
    },
    "kernelspec": {
      "name": "python3",
      "display_name": "Python 3"
    },
    "accelerator": "GPU"
  },
  "cells": [
    {
      "cell_type": "markdown",
      "metadata": {
        "id": "view-in-github",
        "colab_type": "text"
      },
      "source": [
        "<a href=\"https://colab.research.google.com/github/Mishranitin96/Board-Infinity-Homework/blob/master/my_second_notebook.ipynb\" target=\"_parent\"><img src=\"https://colab.research.google.com/assets/colab-badge.svg\" alt=\"Open In Colab\"/></a>"
      ]
    },
    {
      "cell_type": "markdown",
      "metadata": {
        "id": "VBKBWc5CF8eq",
        "colab_type": "text"
      },
      "source": [
        "Hello ! I am Nitin Mishra. \n",
        "I Completed My Bachelors in Management Studies in Specialisation in finance. And now learning a Data Science."
      ]
    },
    {
      "cell_type": "markdown",
      "metadata": {
        "id": "1lbS_ogqhB7U",
        "colab_type": "text"
      },
      "source": [
        "I choose to be data scientist beacause of little interest in Analytics and also a high paying job and a luxerious lifestyle."
      ]
    },
    {
      "cell_type": "code",
      "metadata": {
        "id": "qavIrhXchkKY",
        "colab_type": "code",
        "colab": {}
      },
      "source": [
        "firstname = \"Nitin\""
      ],
      "execution_count": 0,
      "outputs": []
    },
    {
      "cell_type": "code",
      "metadata": {
        "id": "konl953th5sC",
        "colab_type": "code",
        "colab": {}
      },
      "source": [
        "lastname = \"Mishra\""
      ],
      "execution_count": 0,
      "outputs": []
    },
    {
      "cell_type": "code",
      "metadata": {
        "id": "KU4ADNNNh-rL",
        "colab_type": "code",
        "colab": {}
      },
      "source": [
        "cityname = \"Mumbai\""
      ],
      "execution_count": 0,
      "outputs": []
    },
    {
      "cell_type": "code",
      "metadata": {
        "id": "CnEr0zHOiOJ1",
        "colab_type": "code",
        "colab": {}
      },
      "source": [
        "info = {\"name\": \"Nitin\", \"lastname\": \"Mishra\", \"cityname\": \"Mumbai\"}"
      ],
      "execution_count": 0,
      "outputs": []
    },
    {
      "cell_type": "code",
      "metadata": {
        "id": "dfodpDCHjLoZ",
        "colab_type": "code",
        "outputId": "556586e5-b33f-4a08-a240-b5fae4f8cc5f",
        "colab": {
          "base_uri": "https://localhost:8080/",
          "height": 34
        }
      },
      "source": [
        "info"
      ],
      "execution_count": 0,
      "outputs": [
        {
          "output_type": "execute_result",
          "data": {
            "text/plain": [
              "{'cityname': 'Mumbai', 'lastname': 'Mishra', 'name': 'Nitin'}"
            ]
          },
          "metadata": {
            "tags": []
          },
          "execution_count": 4
        }
      ]
    },
    {
      "cell_type": "code",
      "metadata": {
        "id": "7svmmqrzjNy9",
        "colab_type": "code",
        "colab": {}
      },
      "source": [
        "age = \"24\""
      ],
      "execution_count": 0,
      "outputs": []
    },
    {
      "cell_type": "code",
      "metadata": {
        "id": "4lA9TzC2jWsn",
        "colab_type": "code",
        "outputId": "a158b263-48c7-4db1-9fc1-fae487279dd6",
        "colab": {
          "base_uri": "https://localhost:8080/",
          "height": 34
        }
      },
      "source": [
        "age"
      ],
      "execution_count": 0,
      "outputs": [
        {
          "output_type": "execute_result",
          "data": {
            "text/plain": [
              "'24'"
            ]
          },
          "metadata": {
            "tags": []
          },
          "execution_count": 6
        }
      ]
    },
    {
      "cell_type": "code",
      "metadata": {
        "id": "GlUskqmijYN7",
        "colab_type": "code",
        "colab": {}
      },
      "source": [
        "Height = \"175\""
      ],
      "execution_count": 0,
      "outputs": []
    },
    {
      "cell_type": "code",
      "metadata": {
        "id": "N0SKAtx6jjRw",
        "colab_type": "code",
        "outputId": "4591e3f8-e831-4ff4-ff27-a17d412346ad",
        "colab": {
          "base_uri": "https://localhost:8080/",
          "height": 34
        }
      },
      "source": [
        "Height"
      ],
      "execution_count": 0,
      "outputs": [
        {
          "output_type": "execute_result",
          "data": {
            "text/plain": [
              "'175'"
            ]
          },
          "metadata": {
            "tags": []
          },
          "execution_count": 10
        }
      ]
    },
    {
      "cell_type": "code",
      "metadata": {
        "id": "VL6jGT8zjlBV",
        "colab_type": "code",
        "colab": {}
      },
      "source": [
        "tenth_per =\"57\""
      ],
      "execution_count": 0,
      "outputs": []
    },
    {
      "cell_type": "code",
      "metadata": {
        "id": "kXrh_NQjjyNu",
        "colab_type": "code",
        "outputId": "4f9cab85-0064-4f03-8e72-e1521e816026",
        "colab": {
          "base_uri": "https://localhost:8080/",
          "height": 34
        }
      },
      "source": [
        "tenth_per"
      ],
      "execution_count": 0,
      "outputs": [
        {
          "output_type": "execute_result",
          "data": {
            "text/plain": [
              "'57'"
            ]
          },
          "metadata": {
            "tags": []
          },
          "execution_count": 13
        }
      ]
    },
    {
      "cell_type": "code",
      "metadata": {
        "id": "Q028uPMoj2Tl",
        "colab_type": "code",
        "colab": {}
      },
      "source": [
        "tweleth_per =\"65\""
      ],
      "execution_count": 0,
      "outputs": []
    },
    {
      "cell_type": "code",
      "metadata": {
        "id": "pkHBwUzYj71q",
        "colab_type": "code",
        "outputId": "1f08939c-9339-4142-c255-9543949c57ed",
        "colab": {
          "base_uri": "https://localhost:8080/",
          "height": 34
        }
      },
      "source": [
        "tweleth_per"
      ],
      "execution_count": 0,
      "outputs": [
        {
          "output_type": "execute_result",
          "data": {
            "text/plain": [
              "'65'"
            ]
          },
          "metadata": {
            "tags": []
          },
          "execution_count": 15
        }
      ]
    },
    {
      "cell_type": "code",
      "metadata": {
        "id": "LjkUsGDqj-sF",
        "colab_type": "code",
        "colab": {}
      },
      "source": [
        "Percentage = {\"tenth\": \"57\", \"tweleth\": \"65\"}"
      ],
      "execution_count": 0,
      "outputs": []
    },
    {
      "cell_type": "code",
      "metadata": {
        "id": "3HxPF8nzkaQt",
        "colab_type": "code",
        "outputId": "370c4bcf-ba18-4f19-9e7b-a9d6569e24bf",
        "colab": {
          "base_uri": "https://localhost:8080/",
          "height": 34
        }
      },
      "source": [
        "Percentage"
      ],
      "execution_count": 0,
      "outputs": [
        {
          "output_type": "execute_result",
          "data": {
            "text/plain": [
              "{'tenth': '57', 'tweleth': '65'}"
            ]
          },
          "metadata": {
            "tags": []
          },
          "execution_count": 18
        }
      ]
    },
    {
      "cell_type": "code",
      "metadata": {
        "id": "-4L06foVkdxe",
        "colab_type": "code",
        "colab": {}
      },
      "source": [
        "favourite_numbers = [\"2,5,65,57,36\"]"
      ],
      "execution_count": 0,
      "outputs": []
    },
    {
      "cell_type": "code",
      "metadata": {
        "id": "3yTJ26Djkzod",
        "colab_type": "code",
        "outputId": "3be144f1-d5b8-41f5-c3ea-f584f565c24a",
        "colab": {
          "base_uri": "https://localhost:8080/",
          "height": 34
        }
      },
      "source": [
        "favourite_numbers"
      ],
      "execution_count": 0,
      "outputs": [
        {
          "output_type": "execute_result",
          "data": {
            "text/plain": [
              "['2,5,65,57,36']"
            ]
          },
          "metadata": {
            "tags": []
          },
          "execution_count": 58
        }
      ]
    },
    {
      "cell_type": "code",
      "metadata": {
        "id": "comSieBuk3Df",
        "colab_type": "code",
        "colab": {}
      },
      "source": [
        "my_friends = [\"sonal\", \"ravi\", \"parag\", \"rishi\"]"
      ],
      "execution_count": 0,
      "outputs": []
    },
    {
      "cell_type": "code",
      "metadata": {
        "id": "KZuR8MoTlfz8",
        "colab_type": "code",
        "outputId": "653ce75a-93a3-4460-d30f-50435ec45257",
        "colab": {
          "base_uri": "https://localhost:8080/",
          "height": 34
        }
      },
      "source": [
        "my_friends"
      ],
      "execution_count": 0,
      "outputs": [
        {
          "output_type": "execute_result",
          "data": {
            "text/plain": [
              "['sonal', 'ravi', 'parag', 'rishi']"
            ]
          },
          "metadata": {
            "tags": []
          },
          "execution_count": 40
        }
      ]
    },
    {
      "cell_type": "code",
      "metadata": {
        "id": "hKWKGaQto_dl",
        "colab_type": "code",
        "outputId": "1ae5a7e2-e42b-4b57-9dad-7b60cfa8e813",
        "colab": {
          "base_uri": "https://localhost:8080/",
          "height": 34
        }
      },
      "source": [
        "my_friends [0]"
      ],
      "execution_count": 0,
      "outputs": [
        {
          "output_type": "execute_result",
          "data": {
            "text/plain": [
              "'sonal'"
            ]
          },
          "metadata": {
            "tags": []
          },
          "execution_count": 41
        }
      ]
    },
    {
      "cell_type": "code",
      "metadata": {
        "id": "ubZnPk8Dp90L",
        "colab_type": "code",
        "outputId": "2226027b-4509-4466-979b-f8fd7fb4861c",
        "colab": {
          "base_uri": "https://localhost:8080/",
          "height": 34
        }
      },
      "source": [
        "favourite_numbers [2]"
      ],
      "execution_count": 0,
      "outputs": [
        {
          "output_type": "execute_result",
          "data": {
            "text/plain": [
              "'5'"
            ]
          },
          "metadata": {
            "tags": []
          },
          "execution_count": 55
        }
      ]
    },
    {
      "cell_type": "code",
      "metadata": {
        "id": "3FczKcm-qa3E",
        "colab_type": "code",
        "colab": {}
      },
      "source": [
        "myself = {\"date of birth\" : \" 26 may 1996\", \"favourite colour\" : \"Black\", \"age\" : \"24\", \n",
        "          \"gender\" : \"male\", \"name\" : \"nitin\", \"favourite song\" : \"shikwa nahi kisi se\"}"
      ],
      "execution_count": 0,
      "outputs": []
    },
    {
      "cell_type": "code",
      "metadata": {
        "id": "yWuJe_NQrYjK",
        "colab_type": "code",
        "outputId": "a5f419d4-29da-43f3-cc99-817585aedef5",
        "colab": {
          "base_uri": "https://localhost:8080/",
          "height": 34
        }
      },
      "source": [
        "myself [\"name\"]"
      ],
      "execution_count": 0,
      "outputs": [
        {
          "output_type": "execute_result",
          "data": {
            "text/plain": [
              "'nitin'"
            ]
          },
          "metadata": {
            "tags": []
          },
          "execution_count": 60
        }
      ]
    },
    {
      "cell_type": "code",
      "metadata": {
        "id": "NrkYeiLMrgzM",
        "colab_type": "code",
        "outputId": "ac31d8f0-0ebe-44a9-898d-a61c23c596a4",
        "colab": {
          "base_uri": "https://localhost:8080/",
          "height": 34
        }
      },
      "source": [
        "myself [\"gender\"]"
      ],
      "execution_count": 0,
      "outputs": [
        {
          "output_type": "execute_result",
          "data": {
            "text/plain": [
              "'male'"
            ]
          },
          "metadata": {
            "tags": []
          },
          "execution_count": 62
        }
      ]
    },
    {
      "cell_type": "code",
      "metadata": {
        "id": "6swMb4tVrmkJ",
        "colab_type": "code",
        "outputId": "7612e480-d0ea-4171-e3ea-5d2202125967",
        "colab": {
          "base_uri": "https://localhost:8080/",
          "height": 34
        }
      },
      "source": [
        "myself.keys()"
      ],
      "execution_count": 0,
      "outputs": [
        {
          "output_type": "execute_result",
          "data": {
            "text/plain": [
              "dict_keys(['date of birth', 'favourite colour', 'age', 'gender', 'name', 'favourite song'])"
            ]
          },
          "metadata": {
            "tags": []
          },
          "execution_count": 63
        }
      ]
    },
    {
      "cell_type": "code",
      "metadata": {
        "id": "Zrhq01ksr_Qe",
        "colab_type": "code",
        "colab": {}
      },
      "source": [
        "myself [\"Vegetarian\"] = \"true\""
      ],
      "execution_count": 0,
      "outputs": []
    },
    {
      "cell_type": "code",
      "metadata": {
        "id": "cnESqWIZsSJ0",
        "colab_type": "code",
        "outputId": "93710225-0531-4d86-eba1-64deff817246",
        "colab": {
          "base_uri": "https://localhost:8080/",
          "height": 140
        }
      },
      "source": [
        "myself"
      ],
      "execution_count": 0,
      "outputs": [
        {
          "output_type": "execute_result",
          "data": {
            "text/plain": [
              "{'Vegetarian': 'true',\n",
              " 'age': '24',\n",
              " 'date of birth': ' 26 may 1996',\n",
              " 'favourite colour': 'Black',\n",
              " 'favourite song': 'shikwa nahi kisi se',\n",
              " 'gender': 'male',\n",
              " 'name': 'nitin'}"
            ]
          },
          "metadata": {
            "tags": []
          },
          "execution_count": 65
        }
      ]
    },
    {
      "cell_type": "code",
      "metadata": {
        "id": "NucZcJUgsVlf",
        "colab_type": "code",
        "colab": {}
      },
      "source": [
        ""
      ],
      "execution_count": 0,
      "outputs": []
    }
  ]
}